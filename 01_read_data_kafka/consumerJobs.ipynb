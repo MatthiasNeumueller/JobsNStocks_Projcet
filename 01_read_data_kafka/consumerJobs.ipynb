{
 "cells": [
  {
   "cell_type": "code",
   "execution_count": null,
   "id": "b3bfd602-cbd0-494e-a425-bd64c27a68ba",
   "metadata": {},
   "outputs": [],
   "source": [
    "from kafka import KafkaConsumer\n",
    "from pymongo import MongoClient\n",
    "from json import loads\n",
    "import pymongo\n",
    "import ssl"
   ]
  },
  {
   "cell_type": "code",
   "execution_count": null,
   "id": "5c916321-b09a-4f96-897a-4224d85e5c04",
   "metadata": {},
   "outputs": [],
   "source": [
    "#Connect to MogoDB\n",
    "client = MongoClient('<DB-Hostname>',\n",
    "                     ssl_cert_reqs=ssl.CERT_NONE)"
   ]
  },
  {
   "cell_type": "code",
   "execution_count": null,
   "id": "8941ece9-9a30-4ef5-9091-578d356c0a1c",
   "metadata": {},
   "outputs": [],
   "source": [
    "dbs = client.list_database_names()\n",
    "if \"Group_B1_JobStock_db\" in dbs:\n",
    "    if \"jobs\" in client.Group_B1_JobStock_db.list_collection_names():\n",
    "        client.Group_B1_JobStock_db.jobs.drop() \n",
    "else:\n",
    "    Group_B1_JobStock_db = client[\"Group_B1_JobStock_db\"]\n",
    "    print(\"Mongo DB created\")\n",
    "    \n",
    "mycol = client.Group_B1_JobStock_db[\"jobs\"]\n",
    "print(\"Collection jobs initialized\")"
   ]
  },
  {
   "cell_type": "code",
   "execution_count": null,
   "id": "00acf2a7-c235-4346-ad4e-1fa20c533f67",
   "metadata": {},
   "outputs": [],
   "source": [
    "consumer = KafkaConsumer(\n",
    "    'numtest',\n",
    "    bootstrap_servers=['localhost:9092'],\n",
    "    auto_offset_reset='earliest',\n",
    "    enable_auto_commit=True,\n",
    "    group_id='my-group',\n",
    "    value_deserializer=lambda x: x.decode('utf-8'))"
   ]
  },
  {
   "cell_type": "code",
   "execution_count": null,
   "id": "850239ed-8ea5-4efb-941f-69829629f18d",
   "metadata": {},
   "outputs": [],
   "source": [
    "for message in consumer:\n",
    "    m = message.value\n",
    "    print(m)\n",
    "    mycol.insert_one(loads(m))\n"
   ]
  },
  {
   "cell_type": "code",
   "execution_count": null,
   "id": "3fd683e8-5bce-4f1d-a594-eb33f2a1271f",
   "metadata": {},
   "outputs": [],
   "source": []
  }
 ],
 "metadata": {
  "kernelspec": {
   "display_name": "Python 3",
   "language": "python",
   "name": "python3"
  },
  "language_info": {
   "codemirror_mode": {
    "name": "ipython",
    "version": 3
   },
   "file_extension": ".py",
   "mimetype": "text/x-python",
   "name": "python",
   "nbconvert_exporter": "python",
   "pygments_lexer": "ipython3",
   "version": "3.8.10"
  }
 },
 "nbformat": 4,
 "nbformat_minor": 5
}