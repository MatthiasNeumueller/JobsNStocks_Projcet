{
 "cells": [
  {
   "cell_type": "code",
   "execution_count": null,
   "id": "285b30de-fc0c-4fd9-9932-9252505e68c3",
   "metadata": {},
   "outputs": [],
   "source": [
    "import psycopg2\n",
    "import time\n",
    "import requests\n",
    "import json\n",
    "from serpapi import GoogleSearch\n",
    "from json import dumps\n",
    "from kafka import KafkaProducer"
   ]
  },
  {
   "cell_type": "code",
   "execution_count": null,
   "id": "bafbaecf-4ea7-4e6e-bd33-1a2126f5dc64",
   "metadata": {},
   "outputs": [],
   "source": [
    "#Define Google Search Parameters\n",
    "params_google = {\n",
    "  \"engine\": \"google_jobs\",\n",
    "  \"q\": \"data\", #Keyword\n",
    "  \"location\": \"Austria\", #Area of Search\n",
    "  \"start\" : 0,\n",
    "  # \"api_key\": <API-KEY>\n",
    "}"
   ]
  },
  {
   "cell_type": "code",
   "execution_count": null,
   "id": "3cf7a5ab-02d1-49f1-83ea-6723ba64fd0c",
   "metadata": {},
   "outputs": [],
   "source": [
    "#Specify KafkaProducer\n",
    "producer = KafkaProducer(bootstrap_servers=['localhost:9092'],\n",
    "                         value_serializer=lambda x: dumps(x).encode('utf-8'))"
   ]
  },
  {
   "cell_type": "code",
   "execution_count": null,
   "id": "bf14b8ff-166a-45fe-838f-a0a92e421e93",
   "metadata": {},
   "outputs": [],
   "source": [
    "countries = [\"Germany\", \"Switzerland\", \"Austria\"]\n",
    "\n",
    "for country in countries:\n",
    "    params_google[\"location\"] = country\n",
    "    for i in range(0,400,10):\n",
    "        params_google[\"start\"] = i\n",
    "        search = GoogleSearch(params_google)\n",
    "        print(params_google)\n",
    "        results = search.get_dict()\n",
    "        for i in results['jobs_results']:  \n",
    "            producer.send('numtest', value=i)\n"
   ]
  },
  {
   "cell_type": "code",
   "execution_count": null,
   "id": "ebdcfd14-d43d-4dd5-82f1-00040b8b4cb0",
   "metadata": {},
   "outputs": [],
   "source": []
  }
 ],
 "metadata": {
  "kernelspec": {
   "display_name": "Python 3",
   "language": "python",
   "name": "python3"
  },
  "language_info": {
   "codemirror_mode": {
    "name": "ipython",
    "version": 3
   },
   "file_extension": ".py",
   "mimetype": "text/x-python",
   "name": "python",
   "nbconvert_exporter": "python",
   "pygments_lexer": "ipython3",
   "version": "3.8.10"
  }
 },
 "nbformat": 4,
 "nbformat_minor": 5
}