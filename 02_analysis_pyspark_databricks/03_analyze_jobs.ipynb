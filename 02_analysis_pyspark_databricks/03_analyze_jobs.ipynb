{
 "cells": [
  {
   "cell_type": "code",
   "execution_count": 0,
   "metadata": {
    "application/vnd.databricks.v1+cell": {
     "inputWidgets": {},
     "nuid": "7c263e70-3524-4829-b90f-4e083b88b810",
     "showTitle": false,
     "title": ""
    }
   },
   "outputs": [],
   "source": [
    "#install required packages\n",
    "%run \"./requiredPackages\""
   ]
  },
  {
   "cell_type": "code",
   "execution_count": 0,
   "metadata": {
    "application/vnd.databricks.v1+cell": {
     "inputWidgets": {},
     "nuid": "6e3cb907-334c-4e0b-a56f-cb10118248bd",
     "showTitle": false,
     "title": ""
    }
   },
   "outputs": [
    {
     "data": {
      "text/html": [
       "<style scoped>\n",
       "  .ansiout {\n",
       "    display: block;\n",
       "    unicode-bidi: embed;\n",
       "    white-space: pre-wrap;\n",
       "    word-wrap: break-word;\n",
       "    word-break: break-all;\n",
       "    font-family: \"Source Code Pro\", \"Menlo\", monospace;;\n",
       "    font-size: 13px;\n",
       "    color: #555;\n",
       "    margin-left: 4px;\n",
       "    line-height: 19px;\n",
       "  }\n",
       "</style>\n",
       "<div class=\"ansiout\"></div>"
      ]
     },
     "metadata": {
      "application/vnd.databricks.v1+output": {
       "addedWidgets": {},
       "arguments": {},
       "data": "<div class=\"ansiout\"></div>",
       "datasetInfos": [],
       "metadata": {},
       "removedWidgets": [],
       "type": "html"
      }
     },
     "output_type": "display_data"
    },
    {
     "data": {
      "text/html": [
       "<style scoped>\n",
       "  .ansiout {\n",
       "    display: block;\n",
       "    unicode-bidi: embed;\n",
       "    white-space: pre-wrap;\n",
       "    word-wrap: break-word;\n",
       "    word-break: break-all;\n",
       "    font-family: \"Source Code Pro\", \"Menlo\", monospace;;\n",
       "    font-size: 13px;\n",
       "    color: #555;\n",
       "    margin-left: 4px;\n",
       "    line-height: 19px;\n",
       "  }\n",
       "</style>\n",
       "<div class=\"ansiout\"></div>"
      ]
     },
     "metadata": {
      "application/vnd.databricks.v1+output": {
       "addedWidgets": {},
       "arguments": {},
       "data": "<div class=\"ansiout\"></div>",
       "datasetInfos": [],
       "metadata": {},
       "removedWidgets": [],
       "type": "html"
      }
     },
     "output_type": "display_data"
    },
    {
     "data": {
      "text/html": [
       "<style scoped>\n",
       "  .ansiout {\n",
       "    display: block;\n",
       "    unicode-bidi: embed;\n",
       "    white-space: pre-wrap;\n",
       "    word-wrap: break-word;\n",
       "    word-break: break-all;\n",
       "    font-family: \"Source Code Pro\", \"Menlo\", monospace;;\n",
       "    font-size: 13px;\n",
       "    color: #555;\n",
       "    margin-left: 4px;\n",
       "    line-height: 19px;\n",
       "  }\n",
       "</style>\n",
       "<div class=\"ansiout\"></div>"
      ]
     },
     "metadata": {
      "application/vnd.databricks.v1+output": {
       "addedWidgets": {},
       "arguments": {},
       "data": "<div class=\"ansiout\"></div>",
       "datasetInfos": [],
       "metadata": {},
       "removedWidgets": [],
       "type": "html"
      }
     },
     "output_type": "display_data"
    },
    {
     "data": {
      "text/html": [
       "<style scoped>\n",
       "  .ansiout {\n",
       "    display: block;\n",
       "    unicode-bidi: embed;\n",
       "    white-space: pre-wrap;\n",
       "    word-wrap: break-word;\n",
       "    word-break: break-all;\n",
       "    font-family: \"Source Code Pro\", \"Menlo\", monospace;;\n",
       "    font-size: 13px;\n",
       "    color: #555;\n",
       "    margin-left: 4px;\n",
       "    line-height: 19px;\n",
       "  }\n",
       "</style>\n",
       "<div class=\"ansiout\">Python interpreter will be restarted.\n",
       "Collecting beautifulsoup4\n",
       "  Downloading beautifulsoup4-4.10.0-py3-none-any.whl (97 kB)\n",
       "Collecting soupsieve&gt;1.2\n",
       "  Downloading soupsieve-2.3.1-py3-none-any.whl (37 kB)\n",
       "Installing collected packages: soupsieve, beautifulsoup4\n",
       "Successfully installed beautifulsoup4-4.10.0 soupsieve-2.3.1\n",
       "WARNING: You are using pip version 21.0.1; however, version 21.3.1 is available.\n",
       "You should consider upgrading via the &#39;/local_disk0/.ephemeral_nfs/envs/pythonEnv-9c9f2f8a-9329-499a-97f5-5e8a06545462/bin/python -m pip install --upgrade pip&#39; command.\n",
       "Python interpreter will be restarted.\n",
       "Python interpreter will be restarted.\n",
       "Collecting fuzzywuzzy\n",
       "  Downloading fuzzywuzzy-0.18.0-py2.py3-none-any.whl (18 kB)\n",
       "Installing collected packages: fuzzywuzzy\n",
       "Successfully installed fuzzywuzzy-0.18.0\n",
       "WARNING: You are using pip version 21.0.1; however, version 21.3.1 is available.\n",
       "You should consider upgrading via the &#39;/local_disk0/.ephemeral_nfs/envs/pythonEnv-9c9f2f8a-9329-499a-97f5-5e8a06545462/bin/python -m pip install --upgrade pip&#39; command.\n",
       "Python interpreter will be restarted.\n",
       "Python interpreter will be restarted.\n",
       "Collecting yfinance\n",
       "  Downloading yfinance-0.1.68-py2.py3-none-any.whl (26 kB)\n",
       "Collecting multitasking&gt;=0.0.7\n",
       "  Downloading multitasking-0.0.10.tar.gz (8.2 kB)\n",
       "Requirement already satisfied: pandas&gt;=0.24 in /databricks/python3/lib/python3.8/site-packages (from yfinance) (1.2.4)\n",
       "Collecting lxml&gt;=4.5.1\n",
       "  Downloading lxml-4.7.1-cp38-cp38-manylinux_2_17_x86_64.manylinux2014_x86_64.manylinux_2_24_x86_64.whl (6.9 MB)\n",
       "Requirement already satisfied: numpy&gt;=1.15 in /databricks/python3/lib/python3.8/site-packages (from yfinance) (1.19.2)\n",
       "Collecting requests&gt;=2.26\n",
       "  Downloading requests-2.27.1-py2.py3-none-any.whl (63 kB)\n",
       "Requirement already satisfied: pytz&gt;=2017.3 in /databricks/python3/lib/python3.8/site-packages (from pandas&gt;=0.24-&gt;yfinance) (2020.5)\n",
       "Requirement already satisfied: python-dateutil&gt;=2.7.3 in /databricks/python3/lib/python3.8/site-packages (from pandas&gt;=0.24-&gt;yfinance) (2.8.1)\n",
       "Requirement already satisfied: six&gt;=1.5 in /databricks/python3/lib/python3.8/site-packages (from python-dateutil&gt;=2.7.3-&gt;pandas&gt;=0.24-&gt;yfinance) (1.15.0)\n",
       "Requirement already satisfied: certifi&gt;=2017.4.17 in /databricks/python3/lib/python3.8/site-packages (from requests&gt;=2.26-&gt;yfinance) (2020.12.5)\n",
       "Collecting charset-normalizer~=2.0.0\n",
       "  Downloading charset_normalizer-2.0.10-py3-none-any.whl (39 kB)\n",
       "Requirement already satisfied: urllib3&lt;1.27,&gt;=1.21.1 in /databricks/python3/lib/python3.8/site-packages (from requests&gt;=2.26-&gt;yfinance) (1.25.11)\n",
       "Requirement already satisfied: idna&lt;4,&gt;=2.5 in /databricks/python3/lib/python3.8/site-packages (from requests&gt;=2.26-&gt;yfinance) (2.10)\n",
       "Building wheels for collected packages: multitasking\n",
       "  Building wheel for multitasking (setup.py): started\n",
       "  Building wheel for multitasking (setup.py): finished with status &#39;done&#39;\n",
       "  Created wheel for multitasking: filename=multitasking-0.0.10-py3-none-any.whl size=8488 sha256=211a7d014c01347ab2c51b3249fb20309b9a8e5cfb6b646b3a216db3937b5739\n",
       "  Stored in directory: /root/.cache/pip/wheels/21/c9/66/b41c847de65c7985db52ec21d59996841598b8b0e93f2b9500\n",
       "Successfully built multitasking\n",
       "Installing collected packages: charset-normalizer, requests, multitasking, lxml, yfinance\n",
       "  Attempting uninstall: requests\n",
       "    Found existing installation: requests 2.25.1\n",
       "    Not uninstalling requests at /databricks/python3/lib/python3.8/site-packages, outside environment /local_disk0/.ephemeral_nfs/envs/pythonEnv-9c9f2f8a-9329-499a-97f5-5e8a06545462\n",
       "    Can&#39;t uninstall &#39;requests&#39;. No files were found to uninstall.\n",
       "Successfully installed charset-normalizer-2.0.10 lxml-4.7.1 multitasking-0.0.10 requests-2.27.1 yfinance-0.1.68\n",
       "WARNING: You are using pip version 21.0.1; however, version 21.3.1 is available.\n",
       "You should consider upgrading via the &#39;/local_disk0/.ephemeral_nfs/envs/pythonEnv-9c9f2f8a-9329-499a-97f5-5e8a06545462/bin/python -m pip install --upgrade pip&#39; command.\n",
       "Python interpreter will be restarted.\n",
       "Python interpreter will be restarted.\n",
       "Collecting python-Levenshtein\n",
       "  Downloading python-Levenshtein-0.12.2.tar.gz (50 kB)\n",
       "Requirement already satisfied: setuptools in /usr/local/lib/python3.8/dist-packages (from python-Levenshtein) (52.0.0)\n",
       "Building wheels for collected packages: python-Levenshtein\n",
       "  Building wheel for python-Levenshtein (setup.py): started\n",
       "  Building wheel for python-Levenshtein (setup.py): finished with status &#39;done&#39;\n",
       "  Created wheel for python-Levenshtein: filename=python_Levenshtein-0.12.2-cp38-cp38-linux_x86_64.whl size=166148 sha256=e2469683faed17c251eb75b258fe2004cfb2d5cc9573826a3079bf8b22c9fe2a\n",
       "  Stored in directory: /root/.cache/pip/wheels/d7/0c/76/042b46eb0df65c3ccd0338f791210c55ab79d209bcc269e2c7\n",
       "Successfully built python-Levenshtein\n",
       "Installing collected packages: python-Levenshtein\n",
       "Successfully installed python-Levenshtein-0.12.2\n",
       "WARNING: You are using pip version 21.0.1; however, version 21.3.1 is available.\n",
       "You should consider upgrading via the &#39;/local_disk0/.ephemeral_nfs/envs/pythonEnv-9c9f2f8a-9329-499a-97f5-5e8a06545462/bin/python -m pip install --upgrade pip&#39; command.\n",
       "Python interpreter will be restarted.\n",
       "Python interpreter will be restarted.\n",
       "Collecting pymongo\n",
       "  Downloading pymongo-4.0.1-cp38-cp38-manylinux_2_17_x86_64.manylinux2014_x86_64.whl (469 kB)\n",
       "Installing collected packages: pymongo\n",
       "Successfully installed pymongo-4.0.1\n",
       "WARNING: You are using pip version 21.0.1; however, version 21.3.1 is available.\n",
       "You should consider upgrading via the &#39;/local_disk0/.ephemeral_nfs/envs/pythonEnv-9c9f2f8a-9329-499a-97f5-5e8a06545462/bin/python -m pip install --upgrade pip&#39; command.\n",
       "Python interpreter will be restarted.\n",
       "Python interpreter will be restarted.\n",
       "Collecting dnspython\n",
       "  Downloading dnspython-2.1.0-py3-none-any.whl (241 kB)\n",
       "Installing collected packages: dnspython\n",
       "Successfully installed dnspython-2.1.0\n",
       "WARNING: You are using pip version 21.0.1; however, version 21.3.1 is available.\n",
       "You should consider upgrading via the &#39;/local_disk0/.ephemeral_nfs/envs/pythonEnv-9c9f2f8a-9329-499a-97f5-5e8a06545462/bin/python -m pip install --upgrade pip&#39; command.\n",
       "Python interpreter will be restarted.\n",
       "Python interpreter will be restarted.\n",
       "Collecting kafka-python\n",
       "  Downloading kafka_python-2.0.2-py2.py3-none-any.whl (246 kB)\n",
       "Installing collected packages: kafka-python\n",
       "Successfully installed kafka-python-2.0.2\n",
       "WARNING: You are using pip version 21.0.1; however, version 21.3.1 is available.\n",
       "You should consider upgrading via the &#39;/local_disk0/.ephemeral_nfs/envs/pythonEnv-9c9f2f8a-9329-499a-97f5-5e8a06545462/bin/python -m pip install --upgrade pip&#39; command.\n",
       "Python interpreter will be restarted.\n",
       "Python interpreter will be restarted.\n",
       "Collecting sqlalchemy\n",
       "  Downloading SQLAlchemy-1.4.29-cp38-cp38-manylinux_2_5_x86_64.manylinux1_x86_64.manylinux_2_17_x86_64.manylinux2014_x86_64.whl (1.6 MB)\n",
       "Collecting greenlet!=0.4.17\n",
       "  Downloading greenlet-1.1.2-cp38-cp38-manylinux_2_17_x86_64.manylinux2014_x86_64.whl (156 kB)\n",
       "Installing collected packages: greenlet, sqlalchemy\n",
       "Successfully installed greenlet-1.1.2 sqlalchemy-1.4.29\n",
       "WARNING: You are using pip version 21.0.1; however, version 21.3.1 is available.\n",
       "You should consider upgrading via the &#39;/local_disk0/.ephemeral_nfs/envs/pythonEnv-9c9f2f8a-9329-499a-97f5-5e8a06545462/bin/python -m pip install --upgrade pip&#39; command.\n",
       "Python interpreter will be restarted.\n",
       "</div>"
      ]
     },
     "metadata": {
      "application/vnd.databricks.v1+output": {
       "addedWidgets": {},
       "arguments": {},
       "data": "<div class=\"ansiout\">Python interpreter will be restarted.\nCollecting beautifulsoup4\n  Downloading beautifulsoup4-4.10.0-py3-none-any.whl (97 kB)\nCollecting soupsieve&gt;1.2\n  Downloading soupsieve-2.3.1-py3-none-any.whl (37 kB)\nInstalling collected packages: soupsieve, beautifulsoup4\nSuccessfully installed beautifulsoup4-4.10.0 soupsieve-2.3.1\nWARNING: You are using pip version 21.0.1; however, version 21.3.1 is available.\nYou should consider upgrading via the &#39;/local_disk0/.ephemeral_nfs/envs/pythonEnv-9c9f2f8a-9329-499a-97f5-5e8a06545462/bin/python -m pip install --upgrade pip&#39; command.\nPython interpreter will be restarted.\nPython interpreter will be restarted.\nCollecting fuzzywuzzy\n  Downloading fuzzywuzzy-0.18.0-py2.py3-none-any.whl (18 kB)\nInstalling collected packages: fuzzywuzzy\nSuccessfully installed fuzzywuzzy-0.18.0\nWARNING: You are using pip version 21.0.1; however, version 21.3.1 is available.\nYou should consider upgrading via the &#39;/local_disk0/.ephemeral_nfs/envs/pythonEnv-9c9f2f8a-9329-499a-97f5-5e8a06545462/bin/python -m pip install --upgrade pip&#39; command.\nPython interpreter will be restarted.\nPython interpreter will be restarted.\nCollecting yfinance\n  Downloading yfinance-0.1.68-py2.py3-none-any.whl (26 kB)\nCollecting multitasking&gt;=0.0.7\n  Downloading multitasking-0.0.10.tar.gz (8.2 kB)\nRequirement already satisfied: pandas&gt;=0.24 in /databricks/python3/lib/python3.8/site-packages (from yfinance) (1.2.4)\nCollecting lxml&gt;=4.5.1\n  Downloading lxml-4.7.1-cp38-cp38-manylinux_2_17_x86_64.manylinux2014_x86_64.manylinux_2_24_x86_64.whl (6.9 MB)\nRequirement already satisfied: numpy&gt;=1.15 in /databricks/python3/lib/python3.8/site-packages (from yfinance) (1.19.2)\nCollecting requests&gt;=2.26\n  Downloading requests-2.27.1-py2.py3-none-any.whl (63 kB)\nRequirement already satisfied: pytz&gt;=2017.3 in /databricks/python3/lib/python3.8/site-packages (from pandas&gt;=0.24-&gt;yfinance) (2020.5)\nRequirement already satisfied: python-dateutil&gt;=2.7.3 in /databricks/python3/lib/python3.8/site-packages (from pandas&gt;=0.24-&gt;yfinance) (2.8.1)\nRequirement already satisfied: six&gt;=1.5 in /databricks/python3/lib/python3.8/site-packages (from python-dateutil&gt;=2.7.3-&gt;pandas&gt;=0.24-&gt;yfinance) (1.15.0)\nRequirement already satisfied: certifi&gt;=2017.4.17 in /databricks/python3/lib/python3.8/site-packages (from requests&gt;=2.26-&gt;yfinance) (2020.12.5)\nCollecting charset-normalizer~=2.0.0\n  Downloading charset_normalizer-2.0.10-py3-none-any.whl (39 kB)\nRequirement already satisfied: urllib3&lt;1.27,&gt;=1.21.1 in /databricks/python3/lib/python3.8/site-packages (from requests&gt;=2.26-&gt;yfinance) (1.25.11)\nRequirement already satisfied: idna&lt;4,&gt;=2.5 in /databricks/python3/lib/python3.8/site-packages (from requests&gt;=2.26-&gt;yfinance) (2.10)\nBuilding wheels for collected packages: multitasking\n  Building wheel for multitasking (setup.py): started\n  Building wheel for multitasking (setup.py): finished with status &#39;done&#39;\n  Created wheel for multitasking: filename=multitasking-0.0.10-py3-none-any.whl size=8488 sha256=211a7d014c01347ab2c51b3249fb20309b9a8e5cfb6b646b3a216db3937b5739\n  Stored in directory: /root/.cache/pip/wheels/21/c9/66/b41c847de65c7985db52ec21d59996841598b8b0e93f2b9500\nSuccessfully built multitasking\nInstalling collected packages: charset-normalizer, requests, multitasking, lxml, yfinance\n  Attempting uninstall: requests\n    Found existing installation: requests 2.25.1\n    Not uninstalling requests at /databricks/python3/lib/python3.8/site-packages, outside environment /local_disk0/.ephemeral_nfs/envs/pythonEnv-9c9f2f8a-9329-499a-97f5-5e8a06545462\n    Can&#39;t uninstall &#39;requests&#39;. No files were found to uninstall.\nSuccessfully installed charset-normalizer-2.0.10 lxml-4.7.1 multitasking-0.0.10 requests-2.27.1 yfinance-0.1.68\nWARNING: You are using pip version 21.0.1; however, version 21.3.1 is available.\nYou should consider upgrading via the &#39;/local_disk0/.ephemeral_nfs/envs/pythonEnv-9c9f2f8a-9329-499a-97f5-5e8a06545462/bin/python -m pip install --upgrade pip&#39; command.\nPython interpreter will be restarted.\nPython interpreter will be restarted.\nCollecting python-Levenshtein\n  Downloading python-Levenshtein-0.12.2.tar.gz (50 kB)\nRequirement already satisfied: setuptools in /usr/local/lib/python3.8/dist-packages (from python-Levenshtein) (52.0.0)\nBuilding wheels for collected packages: python-Levenshtein\n  Building wheel for python-Levenshtein (setup.py): started\n  Building wheel for python-Levenshtein (setup.py): finished with status &#39;done&#39;\n  Created wheel for python-Levenshtein: filename=python_Levenshtein-0.12.2-cp38-cp38-linux_x86_64.whl size=166148 sha256=e2469683faed17c251eb75b258fe2004cfb2d5cc9573826a3079bf8b22c9fe2a\n  Stored in directory: /root/.cache/pip/wheels/d7/0c/76/042b46eb0df65c3ccd0338f791210c55ab79d209bcc269e2c7\nSuccessfully built python-Levenshtein\nInstalling collected packages: python-Levenshtein\nSuccessfully installed python-Levenshtein-0.12.2\nWARNING: You are using pip version 21.0.1; however, version 21.3.1 is available.\nYou should consider upgrading via the &#39;/local_disk0/.ephemeral_nfs/envs/pythonEnv-9c9f2f8a-9329-499a-97f5-5e8a06545462/bin/python -m pip install --upgrade pip&#39; command.\nPython interpreter will be restarted.\nPython interpreter will be restarted.\nCollecting pymongo\n  Downloading pymongo-4.0.1-cp38-cp38-manylinux_2_17_x86_64.manylinux2014_x86_64.whl (469 kB)\nInstalling collected packages: pymongo\nSuccessfully installed pymongo-4.0.1\nWARNING: You are using pip version 21.0.1; however, version 21.3.1 is available.\nYou should consider upgrading via the &#39;/local_disk0/.ephemeral_nfs/envs/pythonEnv-9c9f2f8a-9329-499a-97f5-5e8a06545462/bin/python -m pip install --upgrade pip&#39; command.\nPython interpreter will be restarted.\nPython interpreter will be restarted.\nCollecting dnspython\n  Downloading dnspython-2.1.0-py3-none-any.whl (241 kB)\nInstalling collected packages: dnspython\nSuccessfully installed dnspython-2.1.0\nWARNING: You are using pip version 21.0.1; however, version 21.3.1 is available.\nYou should consider upgrading via the &#39;/local_disk0/.ephemeral_nfs/envs/pythonEnv-9c9f2f8a-9329-499a-97f5-5e8a06545462/bin/python -m pip install --upgrade pip&#39; command.\nPython interpreter will be restarted.\nPython interpreter will be restarted.\nCollecting kafka-python\n  Downloading kafka_python-2.0.2-py2.py3-none-any.whl (246 kB)\nInstalling collected packages: kafka-python\nSuccessfully installed kafka-python-2.0.2\nWARNING: You are using pip version 21.0.1; however, version 21.3.1 is available.\nYou should consider upgrading via the &#39;/local_disk0/.ephemeral_nfs/envs/pythonEnv-9c9f2f8a-9329-499a-97f5-5e8a06545462/bin/python -m pip install --upgrade pip&#39; command.\nPython interpreter will be restarted.\nPython interpreter will be restarted.\nCollecting sqlalchemy\n  Downloading SQLAlchemy-1.4.29-cp38-cp38-manylinux_2_5_x86_64.manylinux1_x86_64.manylinux_2_17_x86_64.manylinux2014_x86_64.whl (1.6 MB)\nCollecting greenlet!=0.4.17\n  Downloading greenlet-1.1.2-cp38-cp38-manylinux_2_17_x86_64.manylinux2014_x86_64.whl (156 kB)\nInstalling collected packages: greenlet, sqlalchemy\nSuccessfully installed greenlet-1.1.2 sqlalchemy-1.4.29\nWARNING: You are using pip version 21.0.1; however, version 21.3.1 is available.\nYou should consider upgrading via the &#39;/local_disk0/.ephemeral_nfs/envs/pythonEnv-9c9f2f8a-9329-499a-97f5-5e8a06545462/bin/python -m pip install --upgrade pip&#39; command.\nPython interpreter will be restarted.\n</div>",
       "datasetInfos": [],
       "metadata": {},
       "removedWidgets": [],
       "type": "html"
      }
     },
     "output_type": "display_data"
    },
    {
     "data": {
      "text/html": [
       "<style scoped>\n",
       "  .ansiout {\n",
       "    display: block;\n",
       "    unicode-bidi: embed;\n",
       "    white-space: pre-wrap;\n",
       "    word-wrap: break-word;\n",
       "    word-break: break-all;\n",
       "    font-family: \"Source Code Pro\", \"Menlo\", monospace;;\n",
       "    font-size: 13px;\n",
       "    color: #555;\n",
       "    margin-left: 4px;\n",
       "    line-height: 19px;\n",
       "  }\n",
       "</style>\n",
       "<div class=\"ansiout\"></div>"
      ]
     },
     "metadata": {
      "application/vnd.databricks.v1+output": {
       "addedWidgets": {},
       "arguments": {},
       "data": "<div class=\"ansiout\"></div>",
       "datasetInfos": [],
       "metadata": {},
       "removedWidgets": [],
       "type": "html"
      }
     },
     "output_type": "display_data"
    },
    {
     "data": {
      "text/html": [
       "<style scoped>\n",
       "  .ansiout {\n",
       "    display: block;\n",
       "    unicode-bidi: embed;\n",
       "    white-space: pre-wrap;\n",
       "    word-wrap: break-word;\n",
       "    word-break: break-all;\n",
       "    font-family: \"Source Code Pro\", \"Menlo\", monospace;;\n",
       "    font-size: 13px;\n",
       "    color: #555;\n",
       "    margin-left: 4px;\n",
       "    line-height: 19px;\n",
       "  }\n",
       "</style>\n",
       "<div class=\"ansiout\"></div>"
      ]
     },
     "metadata": {
      "application/vnd.databricks.v1+output": {
       "addedWidgets": {},
       "arguments": {},
       "data": "<div class=\"ansiout\"></div>",
       "datasetInfos": [],
       "metadata": {},
       "removedWidgets": [],
       "type": "html"
      }
     },
     "output_type": "display_data"
    },
    {
     "data": {
      "text/html": [
       "<style scoped>\n",
       "  .ansiout {\n",
       "    display: block;\n",
       "    unicode-bidi: embed;\n",
       "    white-space: pre-wrap;\n",
       "    word-wrap: break-word;\n",
       "    word-break: break-all;\n",
       "    font-family: \"Source Code Pro\", \"Menlo\", monospace;;\n",
       "    font-size: 13px;\n",
       "    color: #555;\n",
       "    margin-left: 4px;\n",
       "    line-height: 19px;\n",
       "  }\n",
       "</style>\n",
       "<div class=\"ansiout\"></div>"
      ]
     },
     "metadata": {
      "application/vnd.databricks.v1+output": {
       "addedWidgets": {},
       "arguments": {},
       "data": "<div class=\"ansiout\"></div>",
       "datasetInfos": [],
       "metadata": {},
       "removedWidgets": [],
       "type": "html"
      }
     },
     "output_type": "display_data"
    },
    {
     "data": {
      "text/html": [
       "<style scoped>\n",
       "  .ansiout {\n",
       "    display: block;\n",
       "    unicode-bidi: embed;\n",
       "    white-space: pre-wrap;\n",
       "    word-wrap: break-word;\n",
       "    word-break: break-all;\n",
       "    font-family: \"Source Code Pro\", \"Menlo\", monospace;;\n",
       "    font-size: 13px;\n",
       "    color: #555;\n",
       "    margin-left: 4px;\n",
       "    line-height: 19px;\n",
       "  }\n",
       "</style>\n",
       "<div class=\"ansiout\"></div>"
      ]
     },
     "metadata": {
      "application/vnd.databricks.v1+output": {
       "addedWidgets": {},
       "arguments": {},
       "data": "<div class=\"ansiout\"></div>",
       "datasetInfos": [],
       "metadata": {},
       "removedWidgets": [],
       "type": "html"
      }
     },
     "output_type": "display_data"
    }
   ],
   "source": [
    "# load support functions\n",
    "%run \"./supportFunctions\""
   ]
  },
  {
   "cell_type": "code",
   "execution_count": 0,
   "metadata": {
    "application/vnd.databricks.v1+cell": {
     "inputWidgets": {},
     "nuid": "09e2b656-b60c-42a2-8f90-aca4196b1f8f",
     "showTitle": false,
     "title": ""
    }
   },
   "outputs": [
    {
     "data": {
      "text/html": [
       "<style scoped>\n",
       "  .ansiout {\n",
       "    display: block;\n",
       "    unicode-bidi: embed;\n",
       "    white-space: pre-wrap;\n",
       "    word-wrap: break-word;\n",
       "    word-break: break-all;\n",
       "    font-family: \"Source Code Pro\", \"Menlo\", monospace;;\n",
       "    font-size: 13px;\n",
       "    color: #555;\n",
       "    margin-left: 4px;\n",
       "    line-height: 19px;\n",
       "  }\n",
       "</style>\n",
       "<div class=\"ansiout\"></div>"
      ]
     },
     "metadata": {
      "application/vnd.databricks.v1+output": {
       "addedWidgets": {},
       "arguments": {},
       "data": "<div class=\"ansiout\"></div>",
       "datasetInfos": [],
       "metadata": {},
       "removedWidgets": [],
       "type": "html"
      }
     },
     "output_type": "display_data"
    },
    {
     "data": {
      "text/html": [
       "<style scoped>\n",
       "  .ansiout {\n",
       "    display: block;\n",
       "    unicode-bidi: embed;\n",
       "    white-space: pre-wrap;\n",
       "    word-wrap: break-word;\n",
       "    word-break: break-all;\n",
       "    font-family: \"Source Code Pro\", \"Menlo\", monospace;;\n",
       "    font-size: 13px;\n",
       "    color: #555;\n",
       "    margin-left: 4px;\n",
       "    line-height: 19px;\n",
       "  }\n",
       "</style>\n",
       "<div class=\"ansiout\"></div>"
      ]
     },
     "metadata": {
      "application/vnd.databricks.v1+output": {
       "addedWidgets": {},
       "arguments": {},
       "data": "<div class=\"ansiout\"></div>",
       "datasetInfos": [],
       "metadata": {},
       "removedWidgets": [],
       "type": "html"
      }
     },
     "output_type": "display_data"
    },
    {
     "data": {
      "text/html": [
       "<style scoped>\n",
       "  .ansiout {\n",
       "    display: block;\n",
       "    unicode-bidi: embed;\n",
       "    white-space: pre-wrap;\n",
       "    word-wrap: break-word;\n",
       "    word-break: break-all;\n",
       "    font-family: \"Source Code Pro\", \"Menlo\", monospace;;\n",
       "    font-size: 13px;\n",
       "    color: #555;\n",
       "    margin-left: 4px;\n",
       "    line-height: 19px;\n",
       "  }\n",
       "</style>\n",
       "<div class=\"ansiout\"></div>"
      ]
     },
     "metadata": {
      "application/vnd.databricks.v1+output": {
       "addedWidgets": {},
       "arguments": {},
       "data": "<div class=\"ansiout\"></div>",
       "datasetInfos": [],
       "metadata": {},
       "removedWidgets": [],
       "type": "html"
      }
     },
     "output_type": "display_data"
    },
    {
     "data": {
      "text/html": [
       "<style scoped>\n",
       "  .ansiout {\n",
       "    display: block;\n",
       "    unicode-bidi: embed;\n",
       "    white-space: pre-wrap;\n",
       "    word-wrap: break-word;\n",
       "    word-break: break-all;\n",
       "    font-family: \"Source Code Pro\", \"Menlo\", monospace;;\n",
       "    font-size: 13px;\n",
       "    color: #555;\n",
       "    margin-left: 4px;\n",
       "    line-height: 19px;\n",
       "  }\n",
       "</style>\n",
       "<div class=\"ansiout\"></div>"
      ]
     },
     "metadata": {
      "application/vnd.databricks.v1+output": {
       "addedWidgets": {},
       "arguments": {},
       "data": "<div class=\"ansiout\"></div>",
       "datasetInfos": [],
       "metadata": {},
       "removedWidgets": [],
       "type": "html"
      }
     },
     "output_type": "display_data"
    },
    {
     "data": {
      "text/html": [
       "<style scoped>\n",
       "  .ansiout {\n",
       "    display: block;\n",
       "    unicode-bidi: embed;\n",
       "    white-space: pre-wrap;\n",
       "    word-wrap: break-word;\n",
       "    word-break: break-all;\n",
       "    font-family: \"Source Code Pro\", \"Menlo\", monospace;;\n",
       "    font-size: 13px;\n",
       "    color: #555;\n",
       "    margin-left: 4px;\n",
       "    line-height: 19px;\n",
       "  }\n",
       "</style>\n",
       "<div class=\"ansiout\"></div>"
      ]
     },
     "metadata": {
      "application/vnd.databricks.v1+output": {
       "addedWidgets": {},
       "arguments": {},
       "data": "<div class=\"ansiout\"></div>",
       "datasetInfos": [],
       "metadata": {},
       "removedWidgets": [],
       "type": "html"
      }
     },
     "output_type": "display_data"
    }
   ],
   "source": [
    "import pyspark\n",
    "from pyspark import SparkContext\n",
    "from pyspark.sql import SparkSession, SQLContext, Row\n",
    "from pyspark.sql.functions import split, col, regexp_extract, regexp_replace, to_timestamp, udf, unix_timestamp, concat_ws\n",
    "#import pyspark.sql.functions as F\n",
    "from pyspark.sql.types import StringType\n",
    "from pyspark.sql.types import IntegerType\n",
    "from pyspark.sql.functions import desc\n",
    "from pyspark.sql.functions import asc\n",
    "from pyspark.sql.functions import sum as Fsum\n",
    "from pyspark.ml.regression import LinearRegression\n",
    "from pyspark.ml.linalg import Vectors\n",
    "from datetime import datetime\n",
    "import numpy as np\n",
    "import pandas as pd\n",
    "import re\n",
    "import requests\n",
    "from bs4 import BeautifulSoup\n",
    "from fuzzywuzzy import fuzz\n",
    "import yfinance as yf\n",
    "#from kafka import KafkaProducer\n",
    "import psycopg2\n",
    "\n",
    "#import pymongo\n",
    "#from pymongo import MongoClient\n",
    "#import ssl\n",
    "#import os"
   ]
  },
  {
   "cell_type": "code",
   "execution_count": 0,
   "metadata": {
    "application/vnd.databricks.v1+cell": {
     "inputWidgets": {},
     "nuid": "ac927719-038c-486c-930b-e401df943c45",
     "showTitle": false,
     "title": ""
    }
   },
   "outputs": [
    {
     "data": {
      "text/html": [
       "<style scoped>\n",
       "  .ansiout {\n",
       "    display: block;\n",
       "    unicode-bidi: embed;\n",
       "    white-space: pre-wrap;\n",
       "    word-wrap: break-word;\n",
       "    word-break: break-all;\n",
       "    font-family: \"Source Code Pro\", \"Menlo\", monospace;;\n",
       "    font-size: 13px;\n",
       "    color: #555;\n",
       "    margin-left: 4px;\n",
       "    line-height: 19px;\n",
       "  }\n",
       "</style>\n",
       "<div class=\"ansiout\"></div>"
      ]
     },
     "metadata": {
      "application/vnd.databricks.v1+output": {
       "addedWidgets": {},
       "arguments": {},
       "data": "<div class=\"ansiout\"></div>",
       "datasetInfos": [],
       "metadata": {},
       "removedWidgets": [],
       "type": "html"
      }
     },
     "output_type": "display_data"
    },
    {
     "data": {
      "text/html": [
       "<style scoped>\n",
       "  .ansiout {\n",
       "    display: block;\n",
       "    unicode-bidi: embed;\n",
       "    white-space: pre-wrap;\n",
       "    word-wrap: break-word;\n",
       "    word-break: break-all;\n",
       "    font-family: \"Source Code Pro\", \"Menlo\", monospace;;\n",
       "    font-size: 13px;\n",
       "    color: #555;\n",
       "    margin-left: 4px;\n",
       "    line-height: 19px;\n",
       "  }\n",
       "</style>\n",
       "<div class=\"ansiout\"></div>"
      ]
     },
     "metadata": {
      "application/vnd.databricks.v1+output": {
       "addedWidgets": {},
       "arguments": {},
       "data": "<div class=\"ansiout\"></div>",
       "datasetInfos": [],
       "metadata": {},
       "removedWidgets": [],
       "type": "html"
      }
     },
     "output_type": "display_data"
    },
    {
     "data": {
      "text/html": [
       "<style scoped>\n",
       "  .ansiout {\n",
       "    display: block;\n",
       "    unicode-bidi: embed;\n",
       "    white-space: pre-wrap;\n",
       "    word-wrap: break-word;\n",
       "    word-break: break-all;\n",
       "    font-family: \"Source Code Pro\", \"Menlo\", monospace;;\n",
       "    font-size: 13px;\n",
       "    color: #555;\n",
       "    margin-left: 4px;\n",
       "    line-height: 19px;\n",
       "  }\n",
       "</style>\n",
       "<div class=\"ansiout\"></div>"
      ]
     },
     "metadata": {
      "application/vnd.databricks.v1+output": {
       "addedWidgets": {},
       "arguments": {},
       "data": "<div class=\"ansiout\"></div>",
       "datasetInfos": [],
       "metadata": {},
       "removedWidgets": [],
       "type": "html"
      }
     },
     "output_type": "display_data"
    },
    {
     "data": {
      "text/html": [
       "<style scoped>\n",
       "  .ansiout {\n",
       "    display: block;\n",
       "    unicode-bidi: embed;\n",
       "    white-space: pre-wrap;\n",
       "    word-wrap: break-word;\n",
       "    word-break: break-all;\n",
       "    font-family: \"Source Code Pro\", \"Menlo\", monospace;;\n",
       "    font-size: 13px;\n",
       "    color: #555;\n",
       "    margin-left: 4px;\n",
       "    line-height: 19px;\n",
       "  }\n",
       "</style>\n",
       "<div class=\"ansiout\"></div>"
      ]
     },
     "metadata": {
      "application/vnd.databricks.v1+output": {
       "addedWidgets": {},
       "arguments": {},
       "data": "<div class=\"ansiout\"></div>",
       "datasetInfos": [],
       "metadata": {},
       "removedWidgets": [],
       "type": "html"
      }
     },
     "output_type": "display_data"
    },
    {
     "data": {
      "text/html": [
       "<style scoped>\n",
       "  .ansiout {\n",
       "    display: block;\n",
       "    unicode-bidi: embed;\n",
       "    white-space: pre-wrap;\n",
       "    word-wrap: break-word;\n",
       "    word-break: break-all;\n",
       "    font-family: \"Source Code Pro\", \"Menlo\", monospace;;\n",
       "    font-size: 13px;\n",
       "    color: #555;\n",
       "    margin-left: 4px;\n",
       "    line-height: 19px;\n",
       "  }\n",
       "</style>\n",
       "<div class=\"ansiout\"></div>"
      ]
     },
     "metadata": {
      "application/vnd.databricks.v1+output": {
       "addedWidgets": {},
       "arguments": {},
       "data": "<div class=\"ansiout\"></div>",
       "datasetInfos": [],
       "metadata": {},
       "removedWidgets": [],
       "type": "html"
      }
     },
     "output_type": "display_data"
    }
   ],
   "source": [
    "#%run \"../SparkStreaming (1)/Python/Includes/Classroom-Setup\""
   ]
  },
  {
   "cell_type": "code",
   "execution_count": 0,
   "metadata": {
    "application/vnd.databricks.v1+cell": {
     "inputWidgets": {},
     "nuid": "6e7168d5-d2ef-4829-9013-30cfe3a18466",
     "showTitle": false,
     "title": ""
    }
   },
   "outputs": [
    {
     "data": {
      "text/html": [
       "<style scoped>\n",
       "  .ansiout {\n",
       "    display: block;\n",
       "    unicode-bidi: embed;\n",
       "    white-space: pre-wrap;\n",
       "    word-wrap: break-word;\n",
       "    word-break: break-all;\n",
       "    font-family: \"Source Code Pro\", \"Menlo\", monospace;;\n",
       "    font-size: 13px;\n",
       "    color: #555;\n",
       "    margin-left: 4px;\n",
       "    line-height: 19px;\n",
       "  }\n",
       "</style>\n",
       "<div class=\"ansiout\">3.1.2\n",
       "</div>"
      ]
     },
     "metadata": {
      "application/vnd.databricks.v1+output": {
       "addedWidgets": {},
       "arguments": {},
       "data": "<div class=\"ansiout\">3.1.2\n</div>",
       "datasetInfos": [],
       "metadata": {},
       "removedWidgets": [],
       "type": "html"
      }
     },
     "output_type": "display_data"
    }
   ],
   "source": [
    "print(pyspark.__version__)"
   ]
  },
  {
   "cell_type": "code",
   "execution_count": 0,
   "metadata": {
    "application/vnd.databricks.v1+cell": {
     "inputWidgets": {},
     "nuid": "0b81278e-f9d5-4a30-9ee7-8de707ca5d9e",
     "showTitle": false,
     "title": ""
    }
   },
   "outputs": [
    {
     "data": {
      "text/html": [
       "<style scoped>\n",
       "  .ansiout {\n",
       "    display: block;\n",
       "    unicode-bidi: embed;\n",
       "    white-space: pre-wrap;\n",
       "    word-wrap: break-word;\n",
       "    word-break: break-all;\n",
       "    font-family: \"Source Code Pro\", \"Menlo\", monospace;;\n",
       "    font-size: 13px;\n",
       "    color: #555;\n",
       "    margin-left: 4px;\n",
       "    line-height: 19px;\n",
       "  }\n",
       "</style>\n",
       "<div class=\"ansiout\"></div>"
      ]
     },
     "metadata": {
      "application/vnd.databricks.v1+output": {
       "addedWidgets": {},
       "arguments": {},
       "data": "<div class=\"ansiout\"></div>",
       "datasetInfos": [],
       "metadata": {},
       "removedWidgets": [],
       "type": "html"
      }
     },
     "output_type": "display_data"
    }
   ],
   "source": [
    "# initiate spark session\n",
    "spark = (SparkSession \n",
    "    .builder \n",
    "    .appName(\"AnalyzeJobs\") \n",
    "    .getOrCreate()\n",
    " )"
   ]
  },
  {
   "cell_type": "code",
   "execution_count": 0,
   "metadata": {
    "application/vnd.databricks.v1+cell": {
     "inputWidgets": {},
     "nuid": "c31bae8d-4c72-4678-8782-11f7eae7d806",
     "showTitle": false,
     "title": ""
    }
   },
   "outputs": [
    {
     "data": {
      "text/html": [
       "<style scoped>\n",
       "  .ansiout {\n",
       "    display: block;\n",
       "    unicode-bidi: embed;\n",
       "    white-space: pre-wrap;\n",
       "    word-wrap: break-word;\n",
       "    word-break: break-all;\n",
       "    font-family: \"Source Code Pro\", \"Menlo\", monospace;;\n",
       "    font-size: 13px;\n",
       "    color: #555;\n",
       "    margin-left: 4px;\n",
       "    line-height: 19px;\n",
       "  }\n",
       "</style>\n",
       "<div class=\"ansiout\"></div>"
      ]
     },
     "metadata": {
      "application/vnd.databricks.v1+output": {
       "addedWidgets": {},
       "arguments": {},
       "data": "<div class=\"ansiout\"></div>",
       "datasetInfos": [],
       "metadata": {},
       "removedWidgets": [],
       "type": "html"
      }
     },
     "output_type": "display_data"
    }
   ],
   "source": [
    "# load data from mongo db\n",
    "df = (spark.read\n",
    "      .format(\"mongo\")\n",
    "      .option(\"uri\",\"<DB-Hostname>\")\n",
    "      .load()\n",
    ")"
   ]
  },
  {
   "cell_type": "code",
   "execution_count": 0,
   "metadata": {
    "application/vnd.databricks.v1+cell": {
     "inputWidgets": {},
     "nuid": "fa764bdb-bea2-4484-8c6a-000e23ed34a5",
     "showTitle": false,
     "title": ""
    }
   },
   "outputs": [
    {
     "data": {
      "text/html": [
       "<style scoped>\n",
       "  .ansiout {\n",
       "    display: block;\n",
       "    unicode-bidi: embed;\n",
       "    white-space: pre-wrap;\n",
       "    word-wrap: break-word;\n",
       "    word-break: break-all;\n",
       "    font-family: \"Source Code Pro\", \"Menlo\", monospace;;\n",
       "    font-size: 13px;\n",
       "    color: #555;\n",
       "    margin-left: 4px;\n",
       "    line-height: 19px;\n",
       "  }\n",
       "</style>\n",
       "<div class=\"ansiout\">Out[21]: [Row(_id=Row(oid=&#39;61bf583b862fcdcc42a8656d&#39;), company_name=&#39;Max Planck Computing and Data Facility (MPCDF)&#39;, date=&#39;2021-12-19&#39;, description=&#39;The Max Planck Computing and Data Facility (MPCDF) is a competence center of the Max Planck Society. It is engaged in the development and optimization of algorithms and applications for high-performance computing as well as in the design and implementation of solutions for data-intensive projects in close collaboration with scientists of the Max Planck Institutes. The MPCDF operates supercomputers, compute systems, and data repositories for various Max Planck institutes and maintains an up-to-date infrastructure for data management including long-term archival as one of the largest such academic sites within Europe. The Max Planck Computing and Data Facility (MPCDF), in collaboration with the Max Planck Institute for Human Cognitive and Brain Sciences (MPI-CBS), is looking for a\\nData Scientist (m/f/div) or Machine Learning / AI expert (m/f/div)Reference: 04/2021\\n\\nThe successful candidate will be associated with the artificial intelligence (AI) and high-performance data analytics... division at the MPCDF (based in Garching near Munich, Germany) and will work on AI projects for MRI image reconstruction, semantic segmentation on MRI datasets and 3D histological datasets from microscopy. The focus will be on the development of deep learning-based computer vision applications in neuroimaging targeting high-performance computing (HPC) systems, as pursued in the Departments of Prof. Nikolaus Weiskopf (Neurophysics) and Prof. Christian Doeller (Psychology) at the MPI-CBS. The applicant should hold a PhD in Physics, Applied Mathematics, Computer Science, or a similar subject and have a strong background in developing and optimizing end-to-end machine learning solutions. In-depth knowledge of deep learning frameworks such as TensorFlow or PyTorch is necessary and expertise in deep learning approaches for computer vision are required. A solid background in Python and at least one other HPC programming language such as C++, C, or Fortran is mandatory. Familiarity with concepts to parallelize deep learning applications and the Apache Spark platform is desirable. Experience in high-performance computing is considered a significant plus. We offer the opportunity to work on cutting-edge, high-performance AI projects at the interface of data science and high-performance computing, in close collaboration with leading domain scientists at the MPI-CBS, in both human neuroscience and neuroimaging, and its international partners. The position starts as soon as possible and is initially limited for a maximum period of three years. Salary will be based on experience according to the German TVöD. Additional benefits include: Flexible working hours and a friendly working environment Proximity to underground station (U6), discount MVV job tickets available Free parking on premises Please find more information at https://www.mpcdf.mpg.de. For further questions, please contact Dr. Andreas Marek (andreas.marek@mpcdf.mpg.de). Please apply with a letter of motivation and a CV online by December 31, 2021. Applications are welcome until the position is filled. The Max Planck Society is committed to increasing the number of individuals with disabilities in its workforce and therefore encourages applications from such qualified individuals. Furthermore, the Max Planck Society seeks to increase the number of women in those areas where they are underrepresented and therefore explicitly encourages women to apply&#39;, detected_extensions=Row(posted_at=&#39;Over 1 month ago&#39;, salary=None, schedule_type=&#39;Full-time&#39;, work_from_home=None), extensions=[&#39;Over 1 month ago&#39;, &#39;Full-time&#39;], job_id=&#39;eyJqb2JfdGl0bGUiOiJEYXRhIFNjaWVudGlzdCAobS9mL2Rpdikgb3IgTWFjaGluZSBMZWFybmluZyAvIEFJIGV4cGVydCAobS9mL2RpdikiLCJodGlkb2NpZCI6InJ4Y1pyaWZLSlJnbGktTndBQUFBQUE9PSIsInV1bGUiOiJ3K0NBSVFJQ0lIUjJWeWJXRnVlUSIsImZjIjoiRW9zRENzd0NRVTFzZG5Kd2N6TXRUV3B1YlMwNVYzZFhkbVZ4VWpGRGFHTndibmh4Vm5ka1oyUlhNakZOVWxOVU9UWkxlRVZoVHpRNVVEbFFlbFY0Y1VOR04wVXRkR1p1UVZwNmNGUjFiVXd3ZDBWdGVHRldSMXBYWXpsbk9YZHJOR3Q1Y21JMk1WVktXV0p0VEhOMVYwNTNMWFZuVVhjelNXSjZTME5OVjNvd2VuaEROMVZvWVRVeVVXcHhYMUJoY0ZwUFNqRnNlRkphTUU4dE0wWmlWSHB1ZG5OclptRlJSVVZ2ZVZWYWN6RklUVXhpY2tObVdIa3pjVXBrUWs4eWJrNU5jMnREY25FNVVIcENUWFZzZFdoc1Rta3RTaTA0WWxrMFJWWTNaMVZFWTE5dlNFWkpRMXBSTkRkWU1YbEVTemhCYVVaUFdUUk9RVXBEUlVaTmVGZExOMUp3ZUVSemRtSm9NMUpQVG1wcGMwWlBjelZMZDNsalpYQk5jbVJWVEdaVWFWZEVXVWRPYm1GbmNEUlpNVTg1Tm5WWWJreE1UMDVmYVRsQ2NWbzVVbWxNVjI1Mk0zaDVSWEZ2U25wTk5VWVNGa3RHYVY5WlluRjBSeTFRU1Y5UllqQnhOMGRSUW5jYUlrRklWMU5PYlZWVlJFVTVlVGREVmxsME1EQnpVVUpYUXkweE4za3RaSEJXWm5jIiwiZmN2IjoiMyIsImZjX2lkIjoiZmNfOSIsImFwcGx5X2xpbmsiOnsidGl0bGUiOiJBcHBseSBvbiBOYXR1cmUiLCJsaW5rIjoiaHR0cHM6Ly93d3cubmF0dXJlLmNvbS9uYXR1cmVjYXJlZXJzL2pvYi9kYXRhLXNjaWVudGlzdC1tZmRpdi1vci1tYWNoaW5lLWxlYXJuaW5nLWFpLWV4cGVydC1tZmRpdi1tYXgtcGxhbmNrLWNvbXB1dGluZy1hbmQtZGF0YS1mYWNpbGl0eS1tcGNkZi03NDk3MDM/dXRtX2NhbXBhaWduPWdvb2dsZV9qb2JzX2FwcGx5XHUwMDI2dXRtX3NvdXJjZT1nb29nbGVfam9ic19hcHBseVx1MDAyNnV0bV9tZWRpdW09b3JnYW5pYyJ9fQ==&#39;, location=&#39;Garching, Germany&#39;, location_extended=Row(city=&#39;Garching&#39;, country=&#39;Germany&#39;, longitude=11.650966, latitude=48.251388), thumbnail=&#39;https://encrypted-tbn0.gstatic.com/images?q=tbn:ANd9GcQaPi8IyX8G3uEsQ2lKEzMZOqCltZxugMLGX_QT&amp;s=0&#39;, title=&#39;Data Scientist (m/f/div) or Machine Learning / AI expert (m/f/div)&#39;, via=&#39;via Nature&#39;)]</div>"
      ]
     },
     "metadata": {
      "application/vnd.databricks.v1+output": {
       "addedWidgets": {},
       "arguments": {},
       "data": "<div class=\"ansiout\">Out[21]: [Row(_id=Row(oid=&#39;61bf583b862fcdcc42a8656d&#39;), company_name=&#39;Max Planck Computing and Data Facility (MPCDF)&#39;, date=&#39;2021-12-19&#39;, description=&#39;The Max Planck Computing and Data Facility (MPCDF) is a competence center of the Max Planck Society. It is engaged in the development and optimization of algorithms and applications for high-performance computing as well as in the design and implementation of solutions for data-intensive projects in close collaboration with scientists of the Max Planck Institutes. The MPCDF operates supercomputers, compute systems, and data repositories for various Max Planck institutes and maintains an up-to-date infrastructure for data management including long-term archival as one of the largest such academic sites within Europe. The Max Planck Computing and Data Facility (MPCDF), in collaboration with the Max Planck Institute for Human Cognitive and Brain Sciences (MPI-CBS), is looking for a\\nData Scientist (m/f/div) or Machine Learning / AI expert (m/f/div)Reference: 04/2021\\n\\nThe successful candidate will be associated with the artificial intelligence (AI) and high-performance data analytics... division at the MPCDF (based in Garching near Munich, Germany) and will work on AI projects for MRI image reconstruction, semantic segmentation on MRI datasets and 3D histological datasets from microscopy. The focus will be on the development of deep learning-based computer vision applications in neuroimaging targeting high-performance computing (HPC) systems, as pursued in the Departments of Prof. Nikolaus Weiskopf (Neurophysics) and Prof. Christian Doeller (Psychology) at the MPI-CBS. The applicant should hold a PhD in Physics, Applied Mathematics, Computer Science, or a similar subject and have a strong background in developing and optimizing end-to-end machine learning solutions. In-depth knowledge of deep learning frameworks such as TensorFlow or PyTorch is necessary and expertise in deep learning approaches for computer vision are required. A solid background in Python and at least one other HPC programming language such as C++, C, or Fortran is mandatory. Familiarity with concepts to parallelize deep learning applications and the Apache Spark platform is desirable. Experience in high-performance computing is considered a significant plus. We offer the opportunity to work on cutting-edge, high-performance AI projects at the interface of data science and high-performance computing, in close collaboration with leading domain scientists at the MPI-CBS, in both human neuroscience and neuroimaging, and its international partners. The position starts as soon as possible and is initially limited for a maximum period of three years. Salary will be based on experience according to the German TVöD. Additional benefits include: Flexible working hours and a friendly working environment Proximity to underground station (U6), discount MVV job tickets available Free parking on premises Please find more information at https://www.mpcdf.mpg.de. For further questions, please contact Dr. Andreas Marek (andreas.marek@mpcdf.mpg.de). Please apply with a letter of motivation and a CV online by December 31, 2021. Applications are welcome until the position is filled. The Max Planck Society is committed to increasing the number of individuals with disabilities in its workforce and therefore encourages applications from such qualified individuals. Furthermore, the Max Planck Society seeks to increase the number of women in those areas where they are underrepresented and therefore explicitly encourages women to apply&#39;, detected_extensions=Row(posted_at=&#39;Over 1 month ago&#39;, salary=None, schedule_type=&#39;Full-time&#39;, work_from_home=None), extensions=[&#39;Over 1 month ago&#39;, &#39;Full-time&#39;], job_id=&#39;eyJqb2JfdGl0bGUiOiJEYXRhIFNjaWVudGlzdCAobS9mL2Rpdikgb3IgTWFjaGluZSBMZWFybmluZyAvIEFJIGV4cGVydCAobS9mL2RpdikiLCJodGlkb2NpZCI6InJ4Y1pyaWZLSlJnbGktTndBQUFBQUE9PSIsInV1bGUiOiJ3K0NBSVFJQ0lIUjJWeWJXRnVlUSIsImZjIjoiRW9zRENzd0NRVTFzZG5Kd2N6TXRUV3B1YlMwNVYzZFhkbVZ4VWpGRGFHTndibmh4Vm5ka1oyUlhNakZOVWxOVU9UWkxlRVZoVHpRNVVEbFFlbFY0Y1VOR04wVXRkR1p1UVZwNmNGUjFiVXd3ZDBWdGVHRldSMXBYWXpsbk9YZHJOR3Q1Y21JMk1WVktXV0p0VEhOMVYwNTNMWFZuVVhjelNXSjZTME5OVjNvd2VuaEROMVZvWVRVeVVXcHhYMUJoY0ZwUFNqRnNlRkphTUU4dE0wWmlWSHB1ZG5OclptRlJSVVZ2ZVZWYWN6RklUVXhpY2tObVdIa3pjVXBrUWs4eWJrNU5jMnREY25FNVVIcENUWFZzZFdoc1Rta3RTaTA0WWxrMFJWWTNaMVZFWTE5dlNFWkpRMXBSTkRkWU1YbEVTemhCYVVaUFdUUk9RVXBEUlVaTmVGZExOMUp3ZUVSemRtSm9NMUpQVG1wcGMwWlBjelZMZDNsalpYQk5jbVJWVEdaVWFWZEVXVWRPYm1GbmNEUlpNVTg1Tm5WWWJreE1UMDVmYVRsQ2NWbzVVbWxNVjI1Mk0zaDVSWEZ2U25wTk5VWVNGa3RHYVY5WlluRjBSeTFRU1Y5UllqQnhOMGRSUW5jYUlrRklWMU5PYlZWVlJFVTVlVGREVmxsME1EQnpVVUpYUXkweE4za3RaSEJXWm5jIiwiZmN2IjoiMyIsImZjX2lkIjoiZmNfOSIsImFwcGx5X2xpbmsiOnsidGl0bGUiOiJBcHBseSBvbiBOYXR1cmUiLCJsaW5rIjoiaHR0cHM6Ly93d3cubmF0dXJlLmNvbS9uYXR1cmVjYXJlZXJzL2pvYi9kYXRhLXNjaWVudGlzdC1tZmRpdi1vci1tYWNoaW5lLWxlYXJuaW5nLWFpLWV4cGVydC1tZmRpdi1tYXgtcGxhbmNrLWNvbXB1dGluZy1hbmQtZGF0YS1mYWNpbGl0eS1tcGNkZi03NDk3MDM/dXRtX2NhbXBhaWduPWdvb2dsZV9qb2JzX2FwcGx5XHUwMDI2dXRtX3NvdXJjZT1nb29nbGVfam9ic19hcHBseVx1MDAyNnV0bV9tZWRpdW09b3JnYW5pYyJ9fQ==&#39;, location=&#39;Garching, Germany&#39;, location_extended=Row(city=&#39;Garching&#39;, country=&#39;Germany&#39;, longitude=11.650966, latitude=48.251388), thumbnail=&#39;https://encrypted-tbn0.gstatic.com/images?q=tbn:ANd9GcQaPi8IyX8G3uEsQ2lKEzMZOqCltZxugMLGX_QT&amp;s=0&#39;, title=&#39;Data Scientist (m/f/div) or Machine Learning / AI expert (m/f/div)&#39;, via=&#39;via Nature&#39;)]</div>",
       "datasetInfos": [],
       "metadata": {},
       "removedWidgets": [],
       "type": "html"
      }
     },
     "output_type": "display_data"
    }
   ],
   "source": [
    "# take a glimpse\n",
    "df.take(1)"
   ]
  },
  {
   "cell_type": "code",
   "execution_count": 0,
   "metadata": {
    "application/vnd.databricks.v1+cell": {
     "inputWidgets": {},
     "nuid": "ec9a1d49-8c0a-4685-bded-cfb50ac9991e",
     "showTitle": false,
     "title": ""
    }
   },
   "outputs": [
    {
     "data": {
      "text/html": [
       "<style scoped>\n",
       "  .ansiout {\n",
       "    display: block;\n",
       "    unicode-bidi: embed;\n",
       "    white-space: pre-wrap;\n",
       "    word-wrap: break-word;\n",
       "    word-break: break-all;\n",
       "    font-family: \"Source Code Pro\", \"Menlo\", monospace;;\n",
       "    font-size: 13px;\n",
       "    color: #555;\n",
       "    margin-left: 4px;\n",
       "    line-height: 19px;\n",
       "  }\n",
       "</style>\n",
       "<div class=\"ansiout\"></div>"
      ]
     },
     "metadata": {
      "application/vnd.databricks.v1+output": {
       "addedWidgets": {},
       "arguments": {},
       "data": "<div class=\"ansiout\"></div>",
       "datasetInfos": [],
       "metadata": {},
       "removedWidgets": [],
       "type": "html"
      }
     },
     "output_type": "display_data"
    }
   ],
   "source": [
    "# remove \"via\" string from \"via\" field\n",
    "df = df.withColumn(\"via\", regexp_replace('via', 'via ', ''))"
   ]
  },
  {
   "cell_type": "code",
   "execution_count": 0,
   "metadata": {
    "application/vnd.databricks.v1+cell": {
     "inputWidgets": {},
     "nuid": "64b9d788-d7e4-468b-b1ef-c3e49123dd03",
     "showTitle": false,
     "title": ""
    }
   },
   "outputs": [
    {
     "data": {
      "text/html": [
       "<style scoped>\n",
       "  .ansiout {\n",
       "    display: block;\n",
       "    unicode-bidi: embed;\n",
       "    white-space: pre-wrap;\n",
       "    word-wrap: break-word;\n",
       "    word-break: break-all;\n",
       "    font-family: \"Source Code Pro\", \"Menlo\", monospace;;\n",
       "    font-size: 13px;\n",
       "    color: #555;\n",
       "    margin-left: 4px;\n",
       "    line-height: 19px;\n",
       "  }\n",
       "</style>\n",
       "<div class=\"ansiout\">+-------+--------------------+----------+--------------------+--------------------+--------------------+--------------------+--------------------+----------+\n",
       "summary|        company_name|      date|         description|              job_id|            location|           thumbnail|               title|       via|\n",
       "+-------+--------------------+----------+--------------------+--------------------+--------------------+--------------------+--------------------+----------+\n",
       "  count|                 790|       790|                 790|                 790|                 790|                 425|                 790|       790|\n",
       "   mean|                null|      null|                null|                null|                null|                null|                null|      null|\n",
       " stddev|                null|      null|                null|                null|                null|                null|                null|      null|\n",
       "    min|1010 D. Swarovski KG|2021-12-19|&#34;Caring for the w...|eyJqb2JfdGl0bGUiO...|     Aachen, Germany|https://encrypted...|(Junior) Consulta...|ABB Career|\n",
       "    max|      ​​Sensirion AG|2021-12-19|﻿\n",
       "\n",
       "Working at Ers...|eyJqb2JfdGl0bGUiO...|Zürich, Switzerla...|https://encrypted...|mySugr Data Scien...|  赛多利斯|\n",
       "+-------+--------------------+----------+--------------------+--------------------+--------------------+--------------------+--------------------+----------+\n",
       "\n",
       "</div>"
      ]
     },
     "metadata": {
      "application/vnd.databricks.v1+output": {
       "addedWidgets": {},
       "arguments": {},
       "data": "<div class=\"ansiout\">+-------+--------------------+----------+--------------------+--------------------+--------------------+--------------------+--------------------+----------+\n|summary|        company_name|      date|         description|              job_id|            location|           thumbnail|               title|       via|\n+-------+--------------------+----------+--------------------+--------------------+--------------------+--------------------+--------------------+----------+\n|  count|                 790|       790|                 790|                 790|                 790|                 425|                 790|       790|\n|   mean|                null|      null|                null|                null|                null|                null|                null|      null|\n| stddev|                null|      null|                null|                null|                null|                null|                null|      null|\n|    min|1010 D. Swarovski KG|2021-12-19|&#34;Caring for the w...|eyJqb2JfdGl0bGUiO...|     Aachen, Germany|https://encrypted...|(Junior) Consulta...|ABB Career|\n|    max|      ​​Sensirion AG|2021-12-19|﻿\n\nWorking at Ers...|eyJqb2JfdGl0bGUiO...|Zürich, Switzerla...|https://encrypted...|mySugr Data Scien...|  赛多利斯|\n+-------+--------------------+----------+--------------------+--------------------+--------------------+--------------------+--------------------+----------+\n\n</div>",
       "datasetInfos": [],
       "metadata": {},
       "removedWidgets": [],
       "type": "html"
      }
     },
     "output_type": "display_data"
    }
   ],
   "source": [
    "# check the statistics\n",
    "df.describe().show()"
   ]
  },
  {
   "cell_type": "code",
   "execution_count": 0,
   "metadata": {
    "application/vnd.databricks.v1+cell": {
     "inputWidgets": {},
     "nuid": "ef56d484-82f0-44b3-a321-81cd39ad83ee",
     "showTitle": false,
     "title": ""
    }
   },
   "outputs": [
    {
     "data": {
      "text/html": [
       "<style scoped>\n",
       "  .ansiout {\n",
       "    display: block;\n",
       "    unicode-bidi: embed;\n",
       "    white-space: pre-wrap;\n",
       "    word-wrap: break-word;\n",
       "    word-break: break-all;\n",
       "    font-family: \"Source Code Pro\", \"Menlo\", monospace;;\n",
       "    font-size: 13px;\n",
       "    color: #555;\n",
       "    margin-left: 4px;\n",
       "    line-height: 19px;\n",
       "  }\n",
       "</style>\n",
       "<div class=\"ansiout\">Out[24]: [Row(schedule_type=&#39;Full-time&#39;)]</div>"
      ]
     },
     "metadata": {
      "application/vnd.databricks.v1+output": {
       "addedWidgets": {},
       "arguments": {},
       "data": "<div class=\"ansiout\">Out[24]: [Row(schedule_type=&#39;Full-time&#39;)]</div>",
       "datasetInfos": [],
       "metadata": {},
       "removedWidgets": [],
       "type": "html"
      }
     },
     "output_type": "display_data"
    }
   ],
   "source": [
    "# check functionality of structured fields\n",
    "df.select(\"detected_extensions.schedule_type\").take(1)"
   ]
  },
  {
   "cell_type": "code",
   "execution_count": 0,
   "metadata": {
    "application/vnd.databricks.v1+cell": {
     "inputWidgets": {},
     "nuid": "8ce6cd72-92fb-4cab-8c35-a0bbe2da11d1",
     "showTitle": false,
     "title": ""
    }
   },
   "outputs": [
    {
     "data": {
      "text/html": [
       "<style scoped>\n",
       "  .ansiout {\n",
       "    display: block;\n",
       "    unicode-bidi: embed;\n",
       "    white-space: pre-wrap;\n",
       "    word-wrap: break-word;\n",
       "    word-break: break-all;\n",
       "    font-family: \"Source Code Pro\", \"Menlo\", monospace;;\n",
       "    font-size: 13px;\n",
       "    color: #555;\n",
       "    margin-left: 4px;\n",
       "    line-height: 19px;\n",
       "  }\n",
       "</style>\n",
       "<div class=\"ansiout\">Out[25]: [Row(location=&#39;Garching, Germany&#39;)]</div>"
      ]
     },
     "metadata": {
      "application/vnd.databricks.v1+output": {
       "addedWidgets": {},
       "arguments": {},
       "data": "<div class=\"ansiout\">Out[25]: [Row(location=&#39;Garching, Germany&#39;)]</div>",
       "datasetInfos": [],
       "metadata": {},
       "removedWidgets": [],
       "type": "html"
      }
     },
     "output_type": "display_data"
    }
   ],
   "source": [
    "# format of original location\n",
    "df.select(col(\"location\")).take(1)"
   ]
  },
  {
   "cell_type": "code",
   "execution_count": 0,
   "metadata": {
    "application/vnd.databricks.v1+cell": {
     "inputWidgets": {},
     "nuid": "cc01c10d-d4ea-4ac7-b5c8-833aa5268993",
     "showTitle": false,
     "title": ""
    }
   },
   "outputs": [
    {
     "data": {
      "text/html": [
       "<style scoped>\n",
       "  .ansiout {\n",
       "    display: block;\n",
       "    unicode-bidi: embed;\n",
       "    white-space: pre-wrap;\n",
       "    word-wrap: break-word;\n",
       "    word-break: break-all;\n",
       "    font-family: \"Source Code Pro\", \"Menlo\", monospace;;\n",
       "    font-size: 13px;\n",
       "    color: #555;\n",
       "    margin-left: 4px;\n",
       "    line-height: 19px;\n",
       "  }\n",
       "</style>\n",
       "<div class=\"ansiout\">Out[26]: [Row(location_extended=Row(city=&#39;Garching&#39;, country=&#39;Germany&#39;, longitude=11.650966, latitude=48.251388))]</div>"
      ]
     },
     "metadata": {
      "application/vnd.databricks.v1+output": {
       "addedWidgets": {},
       "arguments": {},
       "data": "<div class=\"ansiout\">Out[26]: [Row(location_extended=Row(city=&#39;Garching&#39;, country=&#39;Germany&#39;, longitude=11.650966, latitude=48.251388))]</div>",
       "datasetInfos": [],
       "metadata": {},
       "removedWidgets": [],
       "type": "html"
      }
     },
     "output_type": "display_data"
    }
   ],
   "source": [
    "# format of post-processed location\n",
    "df.select(col(\"location_extended\")).take(1)"
   ]
  },
  {
   "cell_type": "code",
   "execution_count": 0,
   "metadata": {
    "application/vnd.databricks.v1+cell": {
     "inputWidgets": {},
     "nuid": "e5f497e6-0bd2-46c4-9012-74ee88d770c7",
     "showTitle": false,
     "title": ""
    }
   },
   "outputs": [
    {
     "data": {
      "text/html": [
       "<style scoped>\n",
       "  .ansiout {\n",
       "    display: block;\n",
       "    unicode-bidi: embed;\n",
       "    white-space: pre-wrap;\n",
       "    word-wrap: break-word;\n",
       "    word-break: break-all;\n",
       "    font-family: \"Source Code Pro\", \"Menlo\", monospace;;\n",
       "    font-size: 13px;\n",
       "    color: #555;\n",
       "    margin-left: 4px;\n",
       "    line-height: 19px;\n",
       "  }\n",
       "</style>\n",
       "<div class=\"ansiout\">+-----------+--------------------+----------+-----+\n",
       "    country|                city|      date|count|\n",
       "+-----------+--------------------+----------+-----+\n",
       "Switzerland|                Bern|2021-12-19|   14|\n",
       "    Austria|           Elsbethen|2021-12-19|    2|\n",
       "    Austria|      Klosterneuburg|2021-12-19|    1|\n",
       "    Austria|              Leoben|2021-12-19|    3|\n",
       "Switzerland|    Basel-Landschaft|2021-12-19|    1|\n",
       "    Germany|              Aachen|2021-12-19|    1|\n",
       "Switzerland|                 Zug|2021-12-19|   12|\n",
       "    Austria|            Pasching|2021-12-19|    3|\n",
       "    Germany|           Papenburg|2021-12-19|    1|\n",
       "Switzerland|          Münchwilen|2021-12-19|    2|\n",
       "Switzerland|               Aarau|2021-12-19|    1|\n",
       "    Germany|            Biberach|2021-12-19|    1|\n",
       "    Germany|                Bonn|2021-12-19|    4|\n",
       "    Germany|            Hirschau|2021-12-19|    1|\n",
       "    Austria|            Dornbirn|2021-12-19|    4|\n",
       "Switzerland|             Lucerne|2021-12-19|    1|\n",
       "    Austria|                    |2021-12-19|   24|\n",
       "Switzerland|             Herisau|2021-12-19|    1|\n",
       "    Germany|             Hamburg|2021-12-19|   21|\n",
       "Switzerland|           Dübendorf|2021-12-19|    3|\n",
       "    Austria|            Salzburg|2021-12-19|    1|\n",
       "    Germany|             Cologne|2021-12-19|    4|\n",
       "Switzerland|              Boudry|2021-12-19|    2|\n",
       "Switzerland|            Pratteln|2021-12-19|    1|\n",
       "    Germany|        Weiherhammer|2021-12-19|    3|\n",
       "    Austria|         Mattighofen|2021-12-19|    2|\n",
       "Switzerland|              Wohlen|2021-12-19|    1|\n",
       "    Germany|           Darmstadt|2021-12-19|    5|\n",
       "    Germany|         Norderstedt|2021-12-19|    5|\n",
       "    Germany|            Garching|2021-12-19|    1|\n",
       "    Germany|             Potsdam|2021-12-19|    2|\n",
       "    Austria|            StPölten|2021-12-19|    3|\n",
       "    Austria|            Gratkorn|2021-12-19|    1|\n",
       "   Anywhere|            Anywhere|2021-12-19|   19|\n",
       "    Austria|               Upper|2021-12-19|    3|\n",
       "    Austria|                Graz|2021-12-19|    5|\n",
       "Switzerland|              Stabio|2021-12-19|    5|\n",
       "    Austria|              Reutte|2021-12-19|    1|\n",
       "    Germany|           Offenburg|2021-12-19|    1|\n",
       "    Germany|        Unterföhring|2021-12-19|    1|\n",
       "    Germany|           Stuttgart|2021-12-19|    4|\n",
       "    Germany|               Mainz|2021-12-19|    2|\n",
       "Switzerland|           Luterbach|2021-12-19|    1|\n",
       "    Austria|              Grödig|2021-12-19|    2|\n",
       "Switzerland|              Geneva|2021-12-19|   17|\n",
       "Switzerland|              Schwyz|2021-12-19|    2|\n",
       "Switzerland|         CantonofZug|2021-12-19|    2|\n",
       "    Germany|          Regensburg|2021-12-19|    1|\n",
       "Switzerland|           Schlieren|2021-12-19|    1|\n",
       "    Germany|              Munich|2021-12-19|   37|\n",
       "    Germany|             Hanover|2021-12-19|    2|\n",
       "Switzerland|          Holderbank|2021-12-19|    1|\n",
       "    Germany|           Pattensen|2021-12-19|    1|\n",
       "    Austria|              Wiesen|2021-12-19|    1|\n",
       "Switzerland|               Buchs|2021-12-19|    2|\n",
       "Switzerland|                    |2021-12-19|   11|\n",
       "Switzerland|          Winterthur|2021-12-19|    1|\n",
       "Switzerland|              Kloten|2021-12-19|    2|\n",
       "    Germany|              Bremen|2021-12-19|    1|\n",
       "    Germany|        Ludwigshafen|2021-12-19|    1|\n",
       "    Austria|              Fuschl|2021-12-19|    4|\n",
       "    Germany|           Brunswick|2021-12-19|    1|\n",
       "Switzerland|          Feusisberg|2021-12-19|    1|\n",
       "    Germany|       Aschaffenburg|2021-12-19|    2|\n",
       "    Germany|            Walldorf|2021-12-19|    1|\n",
       "Switzerland|AppenzellInnerrhoden|2021-12-19|    1|\n",
       "Switzerland|               Lancy|2021-12-19|    2|\n",
       "Switzerland|              Lugano|2021-12-19|    1|\n",
       "    Austria|              Vienna|2021-12-19|  110|\n",
       "    Austria|          Klagenfurt|2021-12-19|    4|\n",
       "    Germany|           Renningen|2021-12-19|    1|\n",
       "    Germany|                    |2021-12-19|   20|\n",
       "Switzerland|              Zürich|2021-12-19|  121|\n",
       "    Germany|            Tübingen|2021-12-19|    3|\n",
       "Switzerland|            Cointrin|2021-12-19|    1|\n",
       "Switzerland|      Risch-Rotkreuz|2021-12-19|    1|\n",
       "Switzerland|                Nyon|2021-12-19|    1|\n",
       "    Germany|      Herzogenaurach|2021-12-19|    2|\n",
       "Switzerland|          Volketswil|2021-12-19|    2|\n",
       "    Germany|            Würzburg|2021-12-19|    1|\n",
       "    Germany|         Saarbrücken|2021-12-19|    1|\n",
       "    Austria|           Innsbruck|2021-12-19|    1|\n",
       "    Germany|             Sailauf|2021-12-19|    1|\n",
       "Switzerland|          Freienbach|2021-12-19|    3|\n",
       "    Germany|           Göttingen|2021-12-19|    4|\n",
       "Switzerland|        Schaffhausen|2021-12-19|    3|\n",
       "Switzerland|          Rüschlikon|2021-12-19|    1|\n",
       "    Germany|              Hessen|2021-12-19|    3|\n",
       "    Germany|         Gaimersheim|2021-12-19|    1|\n",
       "    Germany|            Raunheim|2021-12-19|    1|\n",
       "    Germany|            Mannheim|2021-12-19|    3|\n",
       "    Germany|          Warthausen|2021-12-19|    2|\n",
       "Switzerland|               Baden|2021-12-19|    1|\n",
       "    Germany|               Essen|2021-12-19|    3|\n",
       "    Germany|          Oberkochen|2021-12-19|    2|\n",
       "    Austria|           Hagenberg|2021-12-19|    2|\n",
       "    Austria|             Wattens|2021-12-19|    4|\n",
       "Switzerland|            Martigny|2021-12-19|    1|\n",
       "    Germany|              Jülich|2021-12-19|    4|\n",
       "    Germany|           Thuringia|2021-12-19|    1|\n",
       "+-----------+--------------------+----------+-----+\n",
       "only showing top 100 rows\n",
       "\n",
       "</div>"
      ]
     },
     "metadata": {
      "application/vnd.databricks.v1+output": {
       "addedWidgets": {},
       "arguments": {},
       "data": "<div class=\"ansiout\">+-----------+--------------------+----------+-----+\n|    country|                city|      date|count|\n+-----------+--------------------+----------+-----+\n|Switzerland|                Bern|2021-12-19|   14|\n|    Austria|           Elsbethen|2021-12-19|    2|\n|    Austria|      Klosterneuburg|2021-12-19|    1|\n|    Austria|              Leoben|2021-12-19|    3|\n|Switzerland|    Basel-Landschaft|2021-12-19|    1|\n|    Germany|              Aachen|2021-12-19|    1|\n|Switzerland|                 Zug|2021-12-19|   12|\n|    Austria|            Pasching|2021-12-19|    3|\n|    Germany|           Papenburg|2021-12-19|    1|\n|Switzerland|          Münchwilen|2021-12-19|    2|\n|Switzerland|               Aarau|2021-12-19|    1|\n|    Germany|            Biberach|2021-12-19|    1|\n|    Germany|                Bonn|2021-12-19|    4|\n|    Germany|            Hirschau|2021-12-19|    1|\n|    Austria|            Dornbirn|2021-12-19|    4|\n|Switzerland|             Lucerne|2021-12-19|    1|\n|    Austria|                    |2021-12-19|   24|\n|Switzerland|             Herisau|2021-12-19|    1|\n|    Germany|             Hamburg|2021-12-19|   21|\n|Switzerland|           Dübendorf|2021-12-19|    3|\n|    Austria|            Salzburg|2021-12-19|    1|\n|    Germany|             Cologne|2021-12-19|    4|\n|Switzerland|              Boudry|2021-12-19|    2|\n|Switzerland|            Pratteln|2021-12-19|    1|\n|    Germany|        Weiherhammer|2021-12-19|    3|\n|    Austria|         Mattighofen|2021-12-19|    2|\n|Switzerland|              Wohlen|2021-12-19|    1|\n|    Germany|           Darmstadt|2021-12-19|    5|\n|    Germany|         Norderstedt|2021-12-19|    5|\n|    Germany|            Garching|2021-12-19|    1|\n|    Germany|             Potsdam|2021-12-19|    2|\n|    Austria|            StPölten|2021-12-19|    3|\n|    Austria|            Gratkorn|2021-12-19|    1|\n|   Anywhere|            Anywhere|2021-12-19|   19|\n|    Austria|               Upper|2021-12-19|    3|\n|    Austria|                Graz|2021-12-19|    5|\n|Switzerland|              Stabio|2021-12-19|    5|\n|    Austria|              Reutte|2021-12-19|    1|\n|    Germany|           Offenburg|2021-12-19|    1|\n|    Germany|        Unterföhring|2021-12-19|    1|\n|    Germany|           Stuttgart|2021-12-19|    4|\n|    Germany|               Mainz|2021-12-19|    2|\n|Switzerland|           Luterbach|2021-12-19|    1|\n|    Austria|              Grödig|2021-12-19|    2|\n|Switzerland|              Geneva|2021-12-19|   17|\n|Switzerland|              Schwyz|2021-12-19|    2|\n|Switzerland|         CantonofZug|2021-12-19|    2|\n|    Germany|          Regensburg|2021-12-19|    1|\n|Switzerland|           Schlieren|2021-12-19|    1|\n|    Germany|              Munich|2021-12-19|   37|\n|    Germany|             Hanover|2021-12-19|    2|\n|Switzerland|          Holderbank|2021-12-19|    1|\n|    Germany|           Pattensen|2021-12-19|    1|\n|    Austria|              Wiesen|2021-12-19|    1|\n|Switzerland|               Buchs|2021-12-19|    2|\n|Switzerland|                    |2021-12-19|   11|\n|Switzerland|          Winterthur|2021-12-19|    1|\n|Switzerland|              Kloten|2021-12-19|    2|\n|    Germany|              Bremen|2021-12-19|    1|\n|    Germany|        Ludwigshafen|2021-12-19|    1|\n|    Austria|              Fuschl|2021-12-19|    4|\n|    Germany|           Brunswick|2021-12-19|    1|\n|Switzerland|          Feusisberg|2021-12-19|    1|\n|    Germany|       Aschaffenburg|2021-12-19|    2|\n|    Germany|            Walldorf|2021-12-19|    1|\n|Switzerland|AppenzellInnerrhoden|2021-12-19|    1|\n|Switzerland|               Lancy|2021-12-19|    2|\n|Switzerland|              Lugano|2021-12-19|    1|\n|    Austria|              Vienna|2021-12-19|  110|\n|    Austria|          Klagenfurt|2021-12-19|    4|\n|    Germany|           Renningen|2021-12-19|    1|\n|    Germany|                    |2021-12-19|   20|\n|Switzerland|              Zürich|2021-12-19|  121|\n|    Germany|            Tübingen|2021-12-19|    3|\n|Switzerland|            Cointrin|2021-12-19|    1|\n|Switzerland|      Risch-Rotkreuz|2021-12-19|    1|\n|Switzerland|                Nyon|2021-12-19|    1|\n|    Germany|      Herzogenaurach|2021-12-19|    2|\n|Switzerland|          Volketswil|2021-12-19|    2|\n|    Germany|            Würzburg|2021-12-19|    1|\n|    Germany|         Saarbrücken|2021-12-19|    1|\n|    Austria|           Innsbruck|2021-12-19|    1|\n|    Germany|             Sailauf|2021-12-19|    1|\n|Switzerland|          Freienbach|2021-12-19|    3|\n|    Germany|           Göttingen|2021-12-19|    4|\n|Switzerland|        Schaffhausen|2021-12-19|    3|\n|Switzerland|          Rüschlikon|2021-12-19|    1|\n|    Germany|              Hessen|2021-12-19|    3|\n|    Germany|         Gaimersheim|2021-12-19|    1|\n|    Germany|            Raunheim|2021-12-19|    1|\n|    Germany|            Mannheim|2021-12-19|    3|\n|    Germany|          Warthausen|2021-12-19|    2|\n|Switzerland|               Baden|2021-12-19|    1|\n|    Germany|               Essen|2021-12-19|    3|\n|    Germany|          Oberkochen|2021-12-19|    2|\n|    Austria|           Hagenberg|2021-12-19|    2|\n|    Austria|             Wattens|2021-12-19|    4|\n|Switzerland|            Martigny|2021-12-19|    1|\n|    Germany|              Jülich|2021-12-19|    4|\n|    Germany|           Thuringia|2021-12-19|    1|\n+-----------+--------------------+----------+-----+\nonly showing top 100 rows\n\n</div>",
       "datasetInfos": [],
       "metadata": {},
       "removedWidgets": [],
       "type": "html"
      }
     },
     "output_type": "display_data"
    }
   ],
   "source": [
    "# get a feeling for the locations\n",
    "#df2 = df.withColumn('date', to_timestamp(df.date, 'yyyy-MM-dd'))\n",
    "df.groupBy(\"location_extended.country\",\"location_extended.city\", \"date\").count().show(100)"
   ]
  },
  {
   "cell_type": "code",
   "execution_count": 0,
   "metadata": {
    "application/vnd.databricks.v1+cell": {
     "inputWidgets": {},
     "nuid": "91450563-d365-433b-b5dc-a7952be273fd",
     "showTitle": false,
     "title": ""
    }
   },
   "outputs": [
    {
     "data": {
      "text/html": [
       "<style scoped>\n",
       "  .ansiout {\n",
       "    display: block;\n",
       "    unicode-bidi: embed;\n",
       "    white-space: pre-wrap;\n",
       "    word-wrap: break-word;\n",
       "    word-break: break-all;\n",
       "    font-family: \"Source Code Pro\", \"Menlo\", monospace;;\n",
       "    font-size: 13px;\n",
       "    color: #555;\n",
       "    margin-left: 4px;\n",
       "    line-height: 19px;\n",
       "  }\n",
       "</style>\n",
       "<div class=\"ansiout\">+-----------+-----+\n",
       "    country|count|\n",
       "+-----------+-----+\n",
       "    Germany|  295|\n",
       "   Anywhere|   19|\n",
       "Switzerland|  286|\n",
       "    Austria|  190|\n",
       "+-----------+-----+\n",
       "\n",
       "</div>"
      ]
     },
     "metadata": {
      "application/vnd.databricks.v1+output": {
       "addedWidgets": {},
       "arguments": {},
       "data": "<div class=\"ansiout\">+-----------+-----+\n|    country|count|\n+-----------+-----+\n|    Germany|  295|\n|   Anywhere|   19|\n|Switzerland|  286|\n|    Austria|  190|\n+-----------+-----+\n\n</div>",
       "datasetInfos": [],
       "metadata": {},
       "removedWidgets": [],
       "type": "html"
      }
     },
     "output_type": "display_data"
    }
   ],
   "source": [
    "df.groupBy(\"location_extended.country\").count().show()"
   ]
  },
  {
   "cell_type": "code",
   "execution_count": 0,
   "metadata": {
    "application/vnd.databricks.v1+cell": {
     "inputWidgets": {},
     "nuid": "c584b368-e86d-42db-ad37-45bc6d73f52c",
     "showTitle": false,
     "title": ""
    }
   },
   "outputs": [
    {
     "data": {
      "text/html": [
       "<style scoped>\n",
       "  .ansiout {\n",
       "    display: block;\n",
       "    unicode-bidi: embed;\n",
       "    white-space: pre-wrap;\n",
       "    word-wrap: break-word;\n",
       "    word-break: break-all;\n",
       "    font-family: \"Source Code Pro\", \"Menlo\", monospace;;\n",
       "    font-size: 13px;\n",
       "    color: #555;\n",
       "    margin-left: 4px;\n",
       "    line-height: 19px;\n",
       "  }\n",
       "</style>\n",
       "<div class=\"ansiout\">+------------------+-----+\n",
       "      company_name|count|\n",
       "+------------------+-----+\n",
       " Source Technology|    9|\n",
       "      EPAM Systems|    9|\n",
       "Darwin Redesign CH|    8|\n",
       "           Siemens|    8|\n",
       "         Richemont|    8|\n",
       "  The Adecco Group|    7|\n",
       "         Dynatrace|    7|\n",
       "  oxygendigital.ai|    7|\n",
       "           Acronis|    7|\n",
       "      AWK Group AG|    7|\n",
       "  Credit Suisse AG|    7|\n",
       "               ABB|    7|\n",
       "      Michael Page|    6|\n",
       "               SAP|    6|\n",
       "         RemoteHub|    6|\n",
       "       AMBOSS GmbH|    6|\n",
       "        ETH Zurich|    5|\n",
       "           Wayfair|    5|\n",
       "  Bank Vontobel AG|    5|\n",
       "             Roche|    5|\n",
       "+------------------+-----+\n",
       "only showing top 20 rows\n",
       "\n",
       "</div>"
      ]
     },
     "metadata": {
      "application/vnd.databricks.v1+output": {
       "addedWidgets": {},
       "arguments": {},
       "data": "<div class=\"ansiout\">+------------------+-----+\n|      company_name|count|\n+------------------+-----+\n| Source Technology|    9|\n|      EPAM Systems|    9|\n|Darwin Redesign CH|    8|\n|           Siemens|    8|\n|         Richemont|    8|\n|  The Adecco Group|    7|\n|         Dynatrace|    7|\n|  oxygendigital.ai|    7|\n|           Acronis|    7|\n|      AWK Group AG|    7|\n|  Credit Suisse AG|    7|\n|               ABB|    7|\n|      Michael Page|    6|\n|               SAP|    6|\n|         RemoteHub|    6|\n|       AMBOSS GmbH|    6|\n|        ETH Zurich|    5|\n|           Wayfair|    5|\n|  Bank Vontobel AG|    5|\n|             Roche|    5|\n+------------------+-----+\nonly showing top 20 rows\n\n</div>",
       "datasetInfos": [],
       "metadata": {},
       "removedWidgets": [],
       "type": "html"
      }
     },
     "output_type": "display_data"
    }
   ],
   "source": [
    "# how many jobs are posted per company\n",
    "df.groupBy(\"company_name\").count().sort(col(\"count\").desc()).show()"
   ]
  },
  {
   "cell_type": "code",
   "execution_count": 0,
   "metadata": {
    "application/vnd.databricks.v1+cell": {
     "inputWidgets": {},
     "nuid": "cfee2d91-2058-4279-a8a1-4bb08d1b9548",
     "showTitle": false,
     "title": ""
    }
   },
   "outputs": [
    {
     "data": {
      "text/html": [
       "<style scoped>\n",
       "  .ansiout {\n",
       "    display: block;\n",
       "    unicode-bidi: embed;\n",
       "    white-space: pre-wrap;\n",
       "    word-wrap: break-word;\n",
       "    word-break: break-all;\n",
       "    font-family: \"Source Code Pro\", \"Menlo\", monospace;;\n",
       "    font-size: 13px;\n",
       "    color: #555;\n",
       "    margin-left: 4px;\n",
       "    line-height: 19px;\n",
       "  }\n",
       "</style>\n",
       "<div class=\"ansiout\">Out[31]: 417</div>"
      ]
     },
     "metadata": {
      "application/vnd.databricks.v1+output": {
       "addedWidgets": {},
       "arguments": {},
       "data": "<div class=\"ansiout\">Out[31]: 417</div>",
       "datasetInfos": [],
       "metadata": {},
       "removedWidgets": [],
       "type": "html"
      }
     },
     "output_type": "display_data"
    }
   ],
   "source": [
    "# how many different companies do we have in dataset\n",
    "df.select(\"company_name\").distinct().count()"
   ]
  },
  {
   "cell_type": "code",
   "execution_count": 0,
   "metadata": {
    "application/vnd.databricks.v1+cell": {
     "inputWidgets": {},
     "nuid": "9f0759aa-8304-4a24-8cbd-24e30bb510d2",
     "showTitle": false,
     "title": ""
    }
   },
   "outputs": [
    {
     "data": {
      "text/html": [
       "<style scoped>\n",
       "  .ansiout {\n",
       "    display: block;\n",
       "    unicode-bidi: embed;\n",
       "    white-space: pre-wrap;\n",
       "    word-wrap: break-word;\n",
       "    word-break: break-all;\n",
       "    font-family: \"Source Code Pro\", \"Menlo\", monospace;;\n",
       "    font-size: 13px;\n",
       "    color: #555;\n",
       "    margin-left: 4px;\n",
       "    line-height: 19px;\n",
       "  }\n",
       "</style>\n",
       "<div class=\"ansiout\">+-----------+-----------+--------------------+--------------------+-----+\n",
       "    country|       city|        company_name|               title|count|\n",
       "+-----------+-----------+--------------------+--------------------+-----+\n",
       "    Austria|           |       Thermo Fisher|     Sr Data Analyst|    5|\n",
       "    Austria|     Vienna|Sportradar Media ...|Senior Software E...|    4|\n",
       "    Germany|Norderstedt|             tesa SE|Head of Data &amp; An...|    4|\n",
       "Switzerland|        Zug|        Utopia Music|        Data analyst|    3|\n",
       "Switzerland|       Bern|        AWK Group AG|Senior Data Analy...|    3|\n",
       "Switzerland|       Bern|    oxygendigital.ai|Data Engineer / S...|    3|\n",
       "Switzerland|        Zug|             Siemens|Experte Master Da...|    3|\n",
       "    Germany|       Bonn|        ARDAGH GROUP|Data Architect / ...|    3|\n",
       "    Germany|  Stuttgart|            Futurice|Data Engineer (f/...|    3|\n",
       "    Germany| Düsseldorf|             trivago|Data Scientist – ...|    3|\n",
       "+-----------+-----------+--------------------+--------------------+-----+\n",
       "only showing top 10 rows\n",
       "\n",
       "</div>"
      ]
     },
     "metadata": {
      "application/vnd.databricks.v1+output": {
       "addedWidgets": {},
       "arguments": {},
       "data": "<div class=\"ansiout\">+-----------+-----------+--------------------+--------------------+-----+\n|    country|       city|        company_name|               title|count|\n+-----------+-----------+--------------------+--------------------+-----+\n|    Austria|           |       Thermo Fisher|     Sr Data Analyst|    5|\n|    Austria|     Vienna|Sportradar Media ...|Senior Software E...|    4|\n|    Germany|Norderstedt|             tesa SE|Head of Data &amp; An...|    4|\n|Switzerland|        Zug|        Utopia Music|        Data analyst|    3|\n|Switzerland|       Bern|        AWK Group AG|Senior Data Analy...|    3|\n|Switzerland|       Bern|    oxygendigital.ai|Data Engineer / S...|    3|\n|Switzerland|        Zug|             Siemens|Experte Master Da...|    3|\n|    Germany|       Bonn|        ARDAGH GROUP|Data Architect / ...|    3|\n|    Germany|  Stuttgart|            Futurice|Data Engineer (f/...|    3|\n|    Germany| Düsseldorf|             trivago|Data Scientist – ...|    3|\n+-----------+-----------+--------------------+--------------------+-----+\nonly showing top 10 rows\n\n</div>",
       "datasetInfos": [],
       "metadata": {},
       "removedWidgets": [],
       "type": "html"
      }
     },
     "output_type": "display_data"
    }
   ],
   "source": [
    "# identify doubles\n",
    "df.groupBy(\"location_extended.country\", \"location_extended.city\", \"company_name\", \"title\").count().sort(col(\"count\").desc()).show(10)"
   ]
  },
  {
   "cell_type": "code",
   "execution_count": 0,
   "metadata": {
    "application/vnd.databricks.v1+cell": {
     "inputWidgets": {},
     "nuid": "4bed2507-2bdf-44cd-85de-ce41e9dc9cc5",
     "showTitle": false,
     "title": ""
    }
   },
   "outputs": [
    {
     "data": {
      "text/html": [
       "<style scoped>\n",
       "  .ansiout {\n",
       "    display: block;\n",
       "    unicode-bidi: embed;\n",
       "    white-space: pre-wrap;\n",
       "    word-wrap: break-word;\n",
       "    word-break: break-all;\n",
       "    font-family: \"Source Code Pro\", \"Menlo\", monospace;;\n",
       "    font-size: 13px;\n",
       "    color: #555;\n",
       "    margin-left: 4px;\n",
       "    line-height: 19px;\n",
       "  }\n",
       "</style>\n",
       "<div class=\"ansiout\"></div>"
      ]
     },
     "metadata": {
      "application/vnd.databricks.v1+output": {
       "addedWidgets": {},
       "arguments": {},
       "data": "<div class=\"ansiout\"></div>",
       "datasetInfos": [],
       "metadata": {},
       "removedWidgets": [],
       "type": "html"
      }
     },
     "output_type": "display_data"
    }
   ],
   "source": [
    "#remove duplicates -  this involves concatinating certain field as, e.g. country is on a second level\n",
    "df2 = (df.withColumn(\"temp\", concat_ws(\",\", \"location_extended.country\", \"location_extended.city\", \"company_name\", \"title\"))\n",
    " .dropDuplicates([\"temp\"])\n",
    " .drop(\"temp\")\n",
    ")"
   ]
  },
  {
   "cell_type": "code",
   "execution_count": 0,
   "metadata": {
    "application/vnd.databricks.v1+cell": {
     "inputWidgets": {},
     "nuid": "c99d8374-e7eb-4a49-99d1-46ab66d68ccd",
     "showTitle": false,
     "title": ""
    }
   },
   "outputs": [
    {
     "data": {
      "text/html": [
       "<style scoped>\n",
       "  .ansiout {\n",
       "    display: block;\n",
       "    unicode-bidi: embed;\n",
       "    white-space: pre-wrap;\n",
       "    word-wrap: break-word;\n",
       "    word-break: break-all;\n",
       "    font-family: \"Source Code Pro\", \"Menlo\", monospace;;\n",
       "    font-size: 13px;\n",
       "    color: #555;\n",
       "    margin-left: 4px;\n",
       "    line-height: 19px;\n",
       "  }\n",
       "</style>\n",
       "<div class=\"ansiout\">Distinct count of jobs : 628\n",
       "</div>"
      ]
     },
     "metadata": {
      "application/vnd.databricks.v1+output": {
       "addedWidgets": {},
       "arguments": {},
       "data": "<div class=\"ansiout\">Distinct count of jobs : 628\n</div>",
       "datasetInfos": [],
       "metadata": {},
       "removedWidgets": [],
       "type": "html"
      }
     },
     "output_type": "display_data"
    }
   ],
   "source": [
    "# number of jobs after removing doubles\n",
    "#df2 = df.dropDuplicates([\"location_extended.country\", \"location_extended.city\", \"company_name\", \"title\", \"description\"])\n",
    "print(\"Distinct count of jobs : \" + str(df2.count()))"
   ]
  },
  {
   "cell_type": "code",
   "execution_count": 0,
   "metadata": {
    "application/vnd.databricks.v1+cell": {
     "inputWidgets": {},
     "nuid": "be9925ea-1a8c-453f-9345-2c931a3a82be",
     "showTitle": false,
     "title": ""
    }
   },
   "outputs": [
    {
     "data": {
      "text/html": [
       "<style scoped>\n",
       "  .ansiout {\n",
       "    display: block;\n",
       "    unicode-bidi: embed;\n",
       "    white-space: pre-wrap;\n",
       "    word-wrap: break-word;\n",
       "    word-break: break-all;\n",
       "    font-family: \"Source Code Pro\", \"Menlo\", monospace;;\n",
       "    font-size: 13px;\n",
       "    color: #555;\n",
       "    margin-left: 4px;\n",
       "    line-height: 19px;\n",
       "  }\n",
       "</style>\n",
       "<div class=\"ansiout\"></div>"
      ]
     },
     "metadata": {
      "application/vnd.databricks.v1+output": {
       "addedWidgets": {},
       "arguments": {},
       "data": "<div class=\"ansiout\"></div>",
       "datasetInfos": [],
       "metadata": {},
       "removedWidgets": [],
       "type": "html"
      }
     },
     "output_type": "display_data"
    }
   ],
   "source": [
    "# get companies that are traded on the stock market \n",
    "# takes around 25 sec\n",
    "stock_companies_wb = get_companies_listed_on_wiener_borse()\n",
    "stock_aktienfinder = read_list_aktienfinder()\n",
    "stock_companies = (pd.concat([stock_companies_wb.drop(\"country\", axis = 1), stock_aktienfinder], ignore_index=True)\n",
    "                   .drop_duplicates([\"isin\"])\n",
    "                  )\n"
   ]
  },
  {
   "cell_type": "code",
   "execution_count": 0,
   "metadata": {
    "application/vnd.databricks.v1+cell": {
     "inputWidgets": {},
     "nuid": "d2824e82-cc9a-42d2-aeed-1d3d1fbce71c",
     "showTitle": false,
     "title": ""
    }
   },
   "outputs": [
    {
     "data": {
      "text/html": [
       "<style scoped>\n",
       "  .ansiout {\n",
       "    display: block;\n",
       "    unicode-bidi: embed;\n",
       "    white-space: pre-wrap;\n",
       "    word-wrap: break-word;\n",
       "    word-break: break-all;\n",
       "    font-family: \"Source Code Pro\", \"Menlo\", monospace;;\n",
       "    font-size: 13px;\n",
       "    color: #555;\n",
       "    margin-left: 4px;\n",
       "    line-height: 19px;\n",
       "  }\n",
       "</style>\n",
       "<div class=\"ansiout\"></div>"
      ]
     },
     "metadata": {
      "application/vnd.databricks.v1+output": {
       "addedWidgets": {},
       "arguments": {},
       "data": "<div class=\"ansiout\"></div>",
       "datasetInfos": [],
       "metadata": {},
       "removedWidgets": [],
       "type": "html"
      }
     },
     "output_type": "display_data"
    }
   ],
   "source": [
    "# make list of companies offering jobs and convert to list\n",
    "job_companies = df2.select(\"company_name\").dropDuplicates().toPandas()\n",
    "company_list = list(stock_companies[\"name\"])"
   ]
  },
  {
   "cell_type": "code",
   "execution_count": 0,
   "metadata": {
    "application/vnd.databricks.v1+cell": {
     "inputWidgets": {},
     "nuid": "eca639e4-99e7-465d-abfe-ce294db46250",
     "showTitle": false,
     "title": ""
    }
   },
   "outputs": [
    {
     "data": {
      "text/html": [
       "<style scoped>\n",
       "  .ansiout {\n",
       "    display: block;\n",
       "    unicode-bidi: embed;\n",
       "    white-space: pre-wrap;\n",
       "    word-wrap: break-word;\n",
       "    word-break: break-all;\n",
       "    font-family: \"Source Code Pro\", \"Menlo\", monospace;;\n",
       "    font-size: 13px;\n",
       "    color: #555;\n",
       "    margin-left: 4px;\n",
       "    line-height: 19px;\n",
       "  }\n",
       "</style>\n",
       "<div class=\"ansiout\"></div>"
      ]
     },
     "metadata": {
      "application/vnd.databricks.v1+output": {
       "addedWidgets": {},
       "arguments": {},
       "data": "<div class=\"ansiout\"></div>",
       "datasetInfos": [],
       "metadata": {},
       "removedWidgets": [],
       "type": "html"
      }
     },
     "output_type": "display_data"
    }
   ],
   "source": [
    "# write to csv\n",
    "stock_companies.to_csv(\"/dbfs/FileStore/shared_uploads/ds21m031@codingmohgmail.onmicrosoft.com/stock_companies.csv\")\n",
    "job_companies.to_csv(\"/dbfs/FileStore/shared_uploads/ds21m031@codingmohgmail.onmicrosoft.com/job_companies.csv\")"
   ]
  },
  {
   "cell_type": "code",
   "execution_count": 0,
   "metadata": {
    "application/vnd.databricks.v1+cell": {
     "inputWidgets": {},
     "nuid": "e08fd46b-24de-413e-a3af-1fe6af103d79",
     "showTitle": false,
     "title": ""
    }
   },
   "outputs": [
    {
     "data": {
      "text/html": [
       "<style scoped>\n",
       "  .ansiout {\n",
       "    display: block;\n",
       "    unicode-bidi: embed;\n",
       "    white-space: pre-wrap;\n",
       "    word-wrap: break-word;\n",
       "    word-break: break-all;\n",
       "    font-family: \"Source Code Pro\", \"Menlo\", monospace;;\n",
       "    font-size: 13px;\n",
       "    color: #555;\n",
       "    margin-left: 4px;\n",
       "    line-height: 19px;\n",
       "  }\n",
       "</style>\n",
       "<div class=\"ansiout\">input Novartis Pharma AG, match Novartis, score 94\n",
       "input msg systems, match CSG Systems International, score 87\n",
       "input Greiner, match GRENKE AG, score 77\n",
       "input Zalando SE, match Zalando SE, score 100\n",
       "input Vodafone GmbH, match Vodafone, score 76\n",
       "input Zumtobel Group AG, match Zumtobel Group AG, score 100\n",
       "input KION Group, match KION GROUP AG, score 100\n",
       "input Allianz, match Allianz SE, score 100\n",
       "input IHS Markit, match IHS Markit, score 100\n",
       "input Johnson &amp; Johnson, match JOHNSON &amp; JOHNSON, score 100\n",
       "input Ratepay, match Afterpay, score 80\n",
       "input Lonza AG, match Lonza Group, score 91\n",
       "input Sartorius, match Sartorius AG, score 100\n",
       "input Erste Group Bank AG, match Erste Group Bank AG, score 100\n",
       "input Continental, match Continental AG, score 100\n",
       "input Novartis, match Novartis, score 100\n",
       "input Source Technology, match Amkor Technology, score 79\n",
       "input Shopify, match Shopify, score 100\n",
       "input Capco, match Capcom, score 91\n",
       "input BASF, match BASF SE, score 100\n",
       "input Sonova, match Vonovia SE, score 77\n",
       "input AZGROUPPROD, match Gazprom, score 77\n",
       "input Novartis International AG, match Novartis, score 94\n",
       "input Swiss Re, match Swiss Re, score 100\n",
       "input The Adecco Group, match Adecco Group, score 78\n",
       "input Dynatrace, match Dynatrace, score 100\n",
       "input Stillfront Group AB (publ), match Stillfront Group AB, score 80\n",
       "input Penta, match Pentair, score 83\n",
       "input home24, match home24, score 100\n",
       "input Abbott Laboratories, match Abbott Laboratories, score 100\n",
       "input Bristol Myers Squibb Careers, match Bristol-Myers Squibb Co, score 82\n",
       "input New Work SE, match New Work SE, score 100\n",
       "input McKinsey &amp; Company, match Moelis &amp; Company, score 76\n",
       "input Contentful, match Continental AG, score 76\n",
       "input Roche, match Roche, score 100\n",
       "input S&amp;P Global, match S&amp;P Global Inc, score 83\n",
       "input HelloFresh, match HelloFresh SE, score 100\n",
       "input Raiffeisen Bank International AG, match Raiffeisen Bank International AG, score 100\n",
       "input Credit Suisse, match Credit Suisse, score 100\n",
       "input COFRA Holding, match Valora Holding, score 81\n",
       "input Magna International Inc., match Magna International, score 92\n",
       "input Reply AG, match Reply, score 100\n",
       "input Deutsche Börse Group, match Deutsche Börse AG, score 97\n",
       "input Conrad Electronic SE, match BYD Electronic, score 77\n",
       "input Credit Suisse AG, match Credit Suisse, score 100\n",
       "input Kuehne Nagel, match Kuehne + Nagel International, score 89\n",
       "input Philip Morris International, match Philip Morris International Inc, score 88\n",
       "input Kapsch TrafficCom AG, match Kapsch TrafficCom AG, score 100\n",
       "input Accenture GmbH, match Accenture, score 78\n",
       "input Siemens, match Siemens AG, score 100\n",
       "input EPAM Systems, match EPAM Systems, score 100\n",
       "input Sonova AG, match Vonovia SE, score 77\n",
       "input Tech&#39;Firm Industrie AG, match Thor Industries, score 76\n",
       "input Biogen, match BIOGEN INC., score 92\n",
       "input TUI Group, match TUI, score 86\n",
       "input Novartis Group, match Novartis, score 94\n",
       "input Novartis Pharmaceuticals, match Novartis, score 94\n",
       "input Nuance Communications, match SBA Communications, score 82\n",
       "input Erste Bank, match Erste Group Bank AG, score 95\n",
       "input Alstom, match Alstom SA, score 80\n",
       "input Beiersdorf AG, match Beiersdorf AG, score 100\n",
       "input International Service Group, match Service Corporation, score 94\n",
       "input ABB, match ABB, score 100\n",
       "input Westwing, match Westwing Group, score 94\n",
       "input Infineon Technologies, match Infineon Technologies AG, score 100\n",
       "input Raiffeisen Bank International, match Raiffeisen Bank International AG, score 100\n",
       "input STRABAG AG, match STRABAG SE, score 100\n",
       "input Canva, match Carnival, score 77\n",
       "input Alexion, match Allegion, score 80\n",
       "input SAP, match SAP SE, score 100\n",
       "input HeidelbergCement AG, match HeidelbergCement AG, score 100\n",
       "input Apple, match APPLE INC., score 91\n",
       "input Snowflake, match Snowflake Inc, score 82\n",
       "input Amazon, match AAON, score 80\n",
       "input Novartis AG, match Novartis, score 100\n",
       "input Expedia Group, match EXPEDIA INC., score 100\n",
       "input ISG International Service Group, match Service Corporation, score 76\n",
       "input Talan, match Talanx AG, score 91\n",
       "input Delivery Hero, match Delivery Hero SE, score 100\n",
       "input Andritz, match Andritz AG, score 100\n",
       "input trivago, match Trivago NV, score 82\n",
       "input Facebook, match FACEBOOK INC., score 94\n",
       "</div>"
      ]
     },
     "metadata": {
      "application/vnd.databricks.v1+output": {
       "addedWidgets": {},
       "arguments": {},
       "data": "<div class=\"ansiout\">input Novartis Pharma AG, match Novartis, score 94\ninput msg systems, match CSG Systems International, score 87\ninput Greiner, match GRENKE AG, score 77\ninput Zalando SE, match Zalando SE, score 100\ninput Vodafone GmbH, match Vodafone, score 76\ninput Zumtobel Group AG, match Zumtobel Group AG, score 100\ninput KION Group, match KION GROUP AG, score 100\ninput Allianz, match Allianz SE, score 100\ninput IHS Markit, match IHS Markit, score 100\ninput Johnson &amp; Johnson, match JOHNSON &amp; JOHNSON, score 100\ninput Ratepay, match Afterpay, score 80\ninput Lonza AG, match Lonza Group, score 91\ninput Sartorius, match Sartorius AG, score 100\ninput Erste Group Bank AG, match Erste Group Bank AG, score 100\ninput Continental, match Continental AG, score 100\ninput Novartis, match Novartis, score 100\ninput Source Technology, match Amkor Technology, score 79\ninput Shopify, match Shopify, score 100\ninput Capco, match Capcom, score 91\ninput BASF, match BASF SE, score 100\ninput Sonova, match Vonovia SE, score 77\ninput AZGROUPPROD, match Gazprom, score 77\ninput Novartis International AG, match Novartis, score 94\ninput Swiss Re, match Swiss Re, score 100\ninput The Adecco Group, match Adecco Group, score 78\ninput Dynatrace, match Dynatrace, score 100\ninput Stillfront Group AB (publ), match Stillfront Group AB, score 80\ninput Penta, match Pentair, score 83\ninput home24, match home24, score 100\ninput Abbott Laboratories, match Abbott Laboratories, score 100\ninput Bristol Myers Squibb Careers, match Bristol-Myers Squibb Co, score 82\ninput New Work SE, match New Work SE, score 100\ninput McKinsey &amp; Company, match Moelis &amp; Company, score 76\ninput Contentful, match Continental AG, score 76\ninput Roche, match Roche, score 100\ninput S&amp;P Global, match S&amp;P Global Inc, score 83\ninput HelloFresh, match HelloFresh SE, score 100\ninput Raiffeisen Bank International AG, match Raiffeisen Bank International AG, score 100\ninput Credit Suisse, match Credit Suisse, score 100\ninput COFRA Holding, match Valora Holding, score 81\ninput Magna International Inc., match Magna International, score 92\ninput Reply AG, match Reply, score 100\ninput Deutsche Börse Group, match Deutsche Börse AG, score 97\ninput Conrad Electronic SE, match BYD Electronic, score 77\ninput Credit Suisse AG, match Credit Suisse, score 100\ninput Kuehne Nagel, match Kuehne + Nagel International, score 89\ninput Philip Morris International, match Philip Morris International Inc, score 88\ninput Kapsch TrafficCom AG, match Kapsch TrafficCom AG, score 100\ninput Accenture GmbH, match Accenture, score 78\ninput Siemens, match Siemens AG, score 100\ninput EPAM Systems, match EPAM Systems, score 100\ninput Sonova AG, match Vonovia SE, score 77\ninput Tech&#39;Firm Industrie AG, match Thor Industries, score 76\ninput Biogen, match BIOGEN INC., score 92\ninput TUI Group, match TUI, score 86\ninput Novartis Group, match Novartis, score 94\ninput Novartis Pharmaceuticals, match Novartis, score 94\ninput Nuance Communications, match SBA Communications, score 82\ninput Erste Bank, match Erste Group Bank AG, score 95\ninput Alstom, match Alstom SA, score 80\ninput Beiersdorf AG, match Beiersdorf AG, score 100\ninput International Service Group, match Service Corporation, score 94\ninput ABB, match ABB, score 100\ninput Westwing, match Westwing Group, score 94\ninput Infineon Technologies, match Infineon Technologies AG, score 100\ninput Raiffeisen Bank International, match Raiffeisen Bank International AG, score 100\ninput STRABAG AG, match STRABAG SE, score 100\ninput Canva, match Carnival, score 77\ninput Alexion, match Allegion, score 80\ninput SAP, match SAP SE, score 100\ninput HeidelbergCement AG, match HeidelbergCement AG, score 100\ninput Apple, match APPLE INC., score 91\ninput Snowflake, match Snowflake Inc, score 82\ninput Amazon, match AAON, score 80\ninput Novartis AG, match Novartis, score 100\ninput Expedia Group, match EXPEDIA INC., score 100\ninput ISG International Service Group, match Service Corporation, score 76\ninput Talan, match Talanx AG, score 91\ninput Delivery Hero, match Delivery Hero SE, score 100\ninput Andritz, match Andritz AG, score 100\ninput trivago, match Trivago NV, score 82\ninput Facebook, match FACEBOOK INC., score 94\n</div>",
       "datasetInfos": [],
       "metadata": {},
       "removedWidgets": [],
       "type": "html"
      }
     },
     "output_type": "display_data"
    }
   ],
   "source": [
    "# perform matching between comapies with jobs and companies with stock data\n",
    "job_companies[\"company_stock\"] = job_companies[[\"company_name\"]].apply(lambda x : find_best_match(x, company_list, 75), axis = 1)"
   ]
  },
  {
   "cell_type": "code",
   "execution_count": 0,
   "metadata": {
    "application/vnd.databricks.v1+cell": {
     "inputWidgets": {},
     "nuid": "9b586399-900d-48b6-8ef9-5df413afcbee",
     "showTitle": false,
     "title": ""
    }
   },
   "outputs": [
    {
     "data": {
      "text/html": [
       "<style scoped>\n",
       "  .ansiout {\n",
       "    display: block;\n",
       "    unicode-bidi: embed;\n",
       "    white-space: pre-wrap;\n",
       "    word-wrap: break-word;\n",
       "    word-break: break-all;\n",
       "    font-family: \"Source Code Pro\", \"Menlo\", monospace;;\n",
       "    font-size: 13px;\n",
       "    color: #555;\n",
       "    margin-left: 4px;\n",
       "    line-height: 19px;\n",
       "  }\n",
       "</style>\n",
       "<div class=\"ansiout\"></div>"
      ]
     },
     "metadata": {
      "application/vnd.databricks.v1+output": {
       "addedWidgets": {},
       "arguments": {},
       "data": "<div class=\"ansiout\"></div>",
       "datasetInfos": [],
       "metadata": {},
       "removedWidgets": [],
       "type": "html"
      }
     },
     "output_type": "display_data"
    }
   ],
   "source": [
    "# merge to get isin numbers\n",
    "job_companies = job_companies.merge(stock_companies.rename(columns={'name':'company_stock'}), how=\"left\")"
   ]
  },
  {
   "cell_type": "code",
   "execution_count": 0,
   "metadata": {
    "application/vnd.databricks.v1+cell": {
     "inputWidgets": {},
     "nuid": "edf1e297-8d2d-41b2-a9ef-f7d63670bb42",
     "showTitle": false,
     "title": ""
    }
   },
   "outputs": [
    {
     "data": {
      "text/html": [
       "<style scoped>\n",
       "  .ansiout {\n",
       "    display: block;\n",
       "    unicode-bidi: embed;\n",
       "    white-space: pre-wrap;\n",
       "    word-wrap: break-word;\n",
       "    word-break: break-all;\n",
       "    font-family: \"Source Code Pro\", \"Menlo\", monospace;;\n",
       "    font-size: 13px;\n",
       "    color: #555;\n",
       "    margin-left: 4px;\n",
       "    line-height: 19px;\n",
       "  }\n",
       "</style>\n",
       "<div class=\"ansiout\"></div>"
      ]
     },
     "metadata": {
      "application/vnd.databricks.v1+output": {
       "addedWidgets": {},
       "arguments": {},
       "data": "<div class=\"ansiout\"></div>",
       "datasetInfos": [],
       "metadata": {},
       "removedWidgets": [],
       "type": "html"
      }
     },
     "output_type": "display_data"
    }
   ],
   "source": [
    "# all relevant stcok companies in list form\n",
    "isinList = (job_companies.dropna()    # consider only companies with stock\n",
    "            .drop_duplicates(\"isin\")[\"isin\"] # remove duplicates\n",
    "            .tolist()\n",
    "           )\n",
    "#isinList\n"
   ]
  },
  {
   "cell_type": "code",
   "execution_count": 0,
   "metadata": {
    "application/vnd.databricks.v1+cell": {
     "inputWidgets": {},
     "nuid": "5c3c6d85-b7c2-4745-993a-5902aebc79d0",
     "showTitle": false,
     "title": ""
    }
   },
   "outputs": [
    {
     "data": {
      "text/html": [
       "<style scoped>\n",
       "  .ansiout {\n",
       "    display: block;\n",
       "    unicode-bidi: embed;\n",
       "    white-space: pre-wrap;\n",
       "    word-wrap: break-word;\n",
       "    word-break: break-all;\n",
       "    font-family: \"Source Code Pro\", \"Menlo\", monospace;;\n",
       "    font-size: 13px;\n",
       "    color: #555;\n",
       "    margin-left: 4px;\n",
       "    line-height: 19px;\n",
       "  }\n",
       "</style>\n",
       "<div class=\"ansiout\">\r",
       "[                       0%                       ]\r",
       "[*                      3%                       ]  2 of 71 completed\r",
       "[*                      3%                       ]  2 of 71 completed\r",
       "[***                    6%                       ]  4 of 71 completed\r",
       "[***                    7%                       ]  5 of 71 completed\r",
       "[***                    7%                       ]  5 of 71 completed\r",
       "[***                    7%                       ]  5 of 71 completed\r",
       "[*****                 11%                       ]  8 of 71 completed\r",
       "[******                13%                       ]  9 of 71 completed\r",
       "[*******               14%                       ]  10 of 71 completed\r",
       "[*******               15%                       ]  11 of 71 completed\r",
       "[********              17%                       ]  12 of 71 completed\r",
       "[*********             18%                       ]  13 of 71 completed\r",
       "[*********             18%                       ]  13 of 71 completed\r",
       "[**********            21%                       ]  15 of 71 completed\r",
       "[***********           23%                       ]  16 of 71 completed\r",
       "[************          24%                       ]  17 of 71 completed\r",
       "[************          25%                       ]  18 of 71 completed\r",
       "[*************         27%                       ]  19 of 71 completed\r",
       "[*************         28%                       ]  20 of 71 completed\r",
       "[**************        30%                       ]  21 of 71 completed\r",
       "[***************       31%                       ]  22 of 71 completed\r",
       "[***************       32%                       ]  23 of 71 completed\r",
       "[****************      34%                       ]  24 of 71 completed\r",
       "[*****************     35%                       ]  25 of 71 completed\r",
       "[******************    37%                       ]  26 of 71 completed\r",
       "[******************    38%                       ]  27 of 71 completed\r",
       "[*******************   39%                       ]  28 of 71 completed\r",
       "[********************  41%                       ]  29 of 71 completed\r",
       "[********************  42%                       ]  30 of 71 completed\r",
       "[********************* 44%                       ]  31 of 71 completed\r",
       "[**********************45%                       ]  32 of 71 completed\r",
       "[**********************46%                       ]  33 of 71 completed\r",
       "[**********************48%                       ]  34 of 71 completed\r",
       "[**********************49%                       ]  35 of 71 completed\r",
       "[**********************51%                       ]  36 of 71 completed\r",
       "[**********************52%                       ]  37 of 71 completed\r",
       "[**********************54%*                      ]  38 of 71 completed\r",
       "[**********************55%*                      ]  39 of 71 completed\r",
       "[**********************56%**                     ]  40 of 71 completed\r",
       "[**********************58%***                    ]  41 of 71 completed\r",
       "[**********************59%***                    ]  42 of 71 completed\r",
       "[**********************61%****                   ]  43 of 71 completed\r",
       "[**********************62%*****                  ]  44 of 71 completed\r",
       "[**********************63%*****                  ]  45 of 71 completed\r",
       "[**********************65%******                 ]  46 of 71 completed\r",
       "[**********************66%*******                ]  47 of 71 completed\r",
       "[**********************68%********               ]  48 of 71 completed\r",
       "[**********************69%********               ]  49 of 71 completed\r",
       "[**********************70%*********              ]  50 of 71 completed\r",
       "[**********************72%**********             ]  51 of 71 completed\r",
       "[**********************73%**********             ]  52 of 71 completed\r",
       "[**********************75%***********            ]  53 of 71 completed\r",
       "[**********************76%***********            ]  54 of 71 completed\r",
       "[**********************77%************           ]  55 of 71 completed\r",
       "[**********************79%*************          ]  56 of 71 completed\r",
       "[**********************80%*************          ]  57 of 71 completed\r",
       "[**********************82%**************         ]  58 of 71 completed\r",
       "[**********************83%***************        ]  59 of 71 completed\r",
       "[**********************85%****************       ]  60 of 71 completed\r",
       "[**********************85%****************       ]  60 of 71 completed\r",
       "[**********************87%*****************      ]  62 of 71 completed\r",
       "[**********************89%******************     ]  63 of 71 completed\r",
       "[**********************90%******************     ]  64 of 71 completed\r",
       "[**********************90%******************     ]  64 of 71 completed\r",
       "[**********************93%********************   ]  66 of 71 completed\r",
       "[**********************94%********************   ]  67 of 71 completed\r",
       "[**********************96%*********************  ]  68 of 71 completed\r",
       "[**********************97%********************** ]  69 of 71 completed\r",
       "[**********************99%***********************]  70 of 71 completed\r",
       "[*********************100%***********************]  71 of 71 completed\n",
       "</div>"
      ]
     },
     "metadata": {
      "application/vnd.databricks.v1+output": {
       "addedWidgets": {},
       "arguments": {},
       "data": "<div class=\"ansiout\">\r[                       0%                       ]\r[*                      3%                       ]  2 of 71 completed\r[*                      3%                       ]  2 of 71 completed\r[***                    6%                       ]  4 of 71 completed\r[***                    7%                       ]  5 of 71 completed\r[***                    7%                       ]  5 of 71 completed\r[***                    7%                       ]  5 of 71 completed\r[*****                 11%                       ]  8 of 71 completed\r[******                13%                       ]  9 of 71 completed\r[*******               14%                       ]  10 of 71 completed\r[*******               15%                       ]  11 of 71 completed\r[********              17%                       ]  12 of 71 completed\r[*********             18%                       ]  13 of 71 completed\r[*********             18%                       ]  13 of 71 completed\r[**********            21%                       ]  15 of 71 completed\r[***********           23%                       ]  16 of 71 completed\r[************          24%                       ]  17 of 71 completed\r[************          25%                       ]  18 of 71 completed\r[*************         27%                       ]  19 of 71 completed\r[*************         28%                       ]  20 of 71 completed\r[**************        30%                       ]  21 of 71 completed\r[***************       31%                       ]  22 of 71 completed\r[***************       32%                       ]  23 of 71 completed\r[****************      34%                       ]  24 of 71 completed\r[*****************     35%                       ]  25 of 71 completed\r[******************    37%                       ]  26 of 71 completed\r[******************    38%                       ]  27 of 71 completed\r[*******************   39%                       ]  28 of 71 completed\r[********************  41%                       ]  29 of 71 completed\r[********************  42%                       ]  30 of 71 completed\r[********************* 44%                       ]  31 of 71 completed\r[**********************45%                       ]  32 of 71 completed\r[**********************46%                       ]  33 of 71 completed\r[**********************48%                       ]  34 of 71 completed\r[**********************49%                       ]  35 of 71 completed\r[**********************51%                       ]  36 of 71 completed\r[**********************52%                       ]  37 of 71 completed\r[**********************54%*                      ]  38 of 71 completed\r[**********************55%*                      ]  39 of 71 completed\r[**********************56%**                     ]  40 of 71 completed\r[**********************58%***                    ]  41 of 71 completed\r[**********************59%***                    ]  42 of 71 completed\r[**********************61%****                   ]  43 of 71 completed\r[**********************62%*****                  ]  44 of 71 completed\r[**********************63%*****                  ]  45 of 71 completed\r[**********************65%******                 ]  46 of 71 completed\r[**********************66%*******                ]  47 of 71 completed\r[**********************68%********               ]  48 of 71 completed\r[**********************69%********               ]  49 of 71 completed\r[**********************70%*********              ]  50 of 71 completed\r[**********************72%**********             ]  51 of 71 completed\r[**********************73%**********             ]  52 of 71 completed\r[**********************75%***********            ]  53 of 71 completed\r[**********************76%***********            ]  54 of 71 completed\r[**********************77%************           ]  55 of 71 completed\r[**********************79%*************          ]  56 of 71 completed\r[**********************80%*************          ]  57 of 71 completed\r[**********************82%**************         ]  58 of 71 completed\r[**********************83%***************        ]  59 of 71 completed\r[**********************85%****************       ]  60 of 71 completed\r[**********************85%****************       ]  60 of 71 completed\r[**********************87%*****************      ]  62 of 71 completed\r[**********************89%******************     ]  63 of 71 completed\r[**********************90%******************     ]  64 of 71 completed\r[**********************90%******************     ]  64 of 71 completed\r[**********************93%********************   ]  66 of 71 completed\r[**********************94%********************   ]  67 of 71 completed\r[**********************96%*********************  ]  68 of 71 completed\r[**********************97%********************** ]  69 of 71 completed\r[**********************99%***********************]  70 of 71 completed\r[*********************100%***********************]  71 of 71 completed\n</div>",
       "datasetInfos": [],
       "metadata": {},
       "removedWidgets": [],
       "type": "html"
      }
     },
     "output_type": "display_data"
    }
   ],
   "source": [
    "#get stock data\n",
    "start = \"2021-12-01\"\n",
    "end = \"2021-12-31\"\n",
    "dt = datetime.strptime(start, '%Y-%m-%d')\n",
    "start_timestamp = int( datetime\n",
    "                      .strptime(start, '%Y-%m-%d')\n",
    "                      .timestamp() ) / 86400\n",
    "#print(\"ts {}\".format(start_timestamp))\n",
    "lm_input = (read_stock_data(isinList, start, end, spark) \n",
    "            .dropna() # some days don't have stock prices\n",
    "            .withColumn(\"date_ts\", unix_timestamp(\"date\", \"yyy-MM-dd\") / 86400 - start_timestamp) # convert seconds to days by dividing by 86400\n",
    "           )"
   ]
  },
  {
   "cell_type": "code",
   "execution_count": 0,
   "metadata": {
    "application/vnd.databricks.v1+cell": {
     "inputWidgets": {},
     "nuid": "71b8cf31-e4be-47c7-b180-8973ddbac492",
     "showTitle": false,
     "title": ""
    }
   },
   "outputs": [
    {
     "data": {
      "text/html": [
       "<style scoped>\n",
       "  .ansiout {\n",
       "    display: block;\n",
       "    unicode-bidi: embed;\n",
       "    white-space: pre-wrap;\n",
       "    word-wrap: break-word;\n",
       "    word-break: break-all;\n",
       "    font-family: \"Source Code Pro\", \"Menlo\", monospace;;\n",
       "    font-size: 13px;\n",
       "    color: #555;\n",
       "    margin-left: 4px;\n",
       "    line-height: 19px;\n",
       "  }\n",
       "</style>\n",
       "<div class=\"ansiout\"></div>"
      ]
     },
     "metadata": {
      "application/vnd.databricks.v1+output": {
       "addedWidgets": {},
       "arguments": {},
       "data": "<div class=\"ansiout\"></div>",
       "datasetInfos": [],
       "metadata": {},
       "removedWidgets": [],
       "type": "html"
      }
     },
     "output_type": "display_data"
    }
   ],
   "source": [
    "# calculate regression takes 1min\n",
    "stock_data = calculate_LM_per_index(lm_input)\n",
    "#stock_data"
   ]
  },
  {
   "cell_type": "code",
   "execution_count": 0,
   "metadata": {
    "application/vnd.databricks.v1+cell": {
     "inputWidgets": {},
     "nuid": "aec238f6-b353-4e4c-8897-8132c88aa1ec",
     "showTitle": false,
     "title": ""
    }
   },
   "outputs": [
    {
     "data": {
      "text/html": [
       "<style scoped>\n",
       "  .ansiout {\n",
       "    display: block;\n",
       "    unicode-bidi: embed;\n",
       "    white-space: pre-wrap;\n",
       "    word-wrap: break-word;\n",
       "    word-break: break-all;\n",
       "    font-family: \"Source Code Pro\", \"Menlo\", monospace;;\n",
       "    font-size: 13px;\n",
       "    color: #555;\n",
       "    margin-left: 4px;\n",
       "    line-height: 19px;\n",
       "  }\n",
       "</style>\n",
       "<div class=\"ansiout\">+--------------------+--------------------+------------+--------------------+------------------+\n",
       "        company_name|       company_stock|        isin|         coefficient|         intersept|\n",
       "+--------------------+--------------------+------------+--------------------+------------------+\n",
       "  Novartis Pharma AG|            Novartis|CH0012005267|  0.3435156952522496|  72.1927171267855|\n",
       "            Novartis|            Novartis|CH0012005267|  0.3435156952522496|  72.1927171267855|\n",
       "Novartis Internat...|            Novartis|CH0012005267|  0.3435156952522496|  72.1927171267855|\n",
       "      Novartis Group|            Novartis|CH0012005267|  0.3435156952522496|  72.1927171267855|\n",
       "Novartis Pharmace...|            Novartis|CH0012005267|  0.3435156952522496|  72.1927171267855|\n",
       "         Novartis AG|            Novartis|CH0012005267|  0.3435156952522496|  72.1927171267855|\n",
       "         msg systems|CSG Systems Inter...|US1263491094| 0.21070634297418023| 53.13660678212257|\n",
       "             Greiner|           GRENKE AG|DE000A161N30|-0.26944063146736497| 33.97483353648117|\n",
       "          Zalando SE|          Zalando SE|DE000ZAL1111|  -0.510012313180275| 79.22594872587173|\n",
       "       Vodafone GmbH|            Vodafone|GB00BH4HKS39|  0.3520359990911617|107.78247815953281|\n",
       "   Zumtobel Group AG|   Zumtobel Group AG|AT0000837307|-0.06069608690344432| 8.902733382433535|\n",
       "          KION Group|       KION GROUP AG|DE000KGX8881| -0.4016839606026012|101.88083908112122|\n",
       "             Allianz|          Allianz SE|DE0008404005|  0.4400347414448432|  197.394812450701|\n",
       "          IHS Markit|          IHS Markit|BMG475671050| 0.47315515996934104|  125.281612154311|\n",
       "   Johnson &amp; Johnson|   JOHNSON &amp; JOHNSON|US4781601046|  0.6498438526081263|158.00992368922346|\n",
       "             Ratepay|            Afterpay|AU000000APT1| -0.9396182270705361|103.97766841843115|\n",
       "            Lonza AG|         Lonza Group|CH0013841017|  2.4723781974883883|  709.027505127758|\n",
       "           Sartorius|        Sartorius AG|DE0007165631|   3.434192174109147| 528.0502360087851|\n",
       " Erste Group Bank AG| Erste Group Bank AG|AT0000652011|  0.1575595254965943|37.544883886600395|\n",
       "          Erste Bank| Erste Group Bank AG|AT0000652011|  0.1575595254965943|37.544883886600395|\n",
       "+--------------------+--------------------+------------+--------------------+------------------+\n",
       "only showing top 20 rows\n",
       "\n",
       "</div>"
      ]
     },
     "metadata": {
      "application/vnd.databricks.v1+output": {
       "addedWidgets": {},
       "arguments": {},
       "data": "<div class=\"ansiout\">+--------------------+--------------------+------------+--------------------+------------------+\n|        company_name|       company_stock|        isin|         coefficient|         intersept|\n+--------------------+--------------------+------------+--------------------+------------------+\n|  Novartis Pharma AG|            Novartis|CH0012005267|  0.3435156952522496|  72.1927171267855|\n|            Novartis|            Novartis|CH0012005267|  0.3435156952522496|  72.1927171267855|\n|Novartis Internat...|            Novartis|CH0012005267|  0.3435156952522496|  72.1927171267855|\n|      Novartis Group|            Novartis|CH0012005267|  0.3435156952522496|  72.1927171267855|\n|Novartis Pharmace...|            Novartis|CH0012005267|  0.3435156952522496|  72.1927171267855|\n|         Novartis AG|            Novartis|CH0012005267|  0.3435156952522496|  72.1927171267855|\n|         msg systems|CSG Systems Inter...|US1263491094| 0.21070634297418023| 53.13660678212257|\n|             Greiner|           GRENKE AG|DE000A161N30|-0.26944063146736497| 33.97483353648117|\n|          Zalando SE|          Zalando SE|DE000ZAL1111|  -0.510012313180275| 79.22594872587173|\n|       Vodafone GmbH|            Vodafone|GB00BH4HKS39|  0.3520359990911617|107.78247815953281|\n|   Zumtobel Group AG|   Zumtobel Group AG|AT0000837307|-0.06069608690344432| 8.902733382433535|\n|          KION Group|       KION GROUP AG|DE000KGX8881| -0.4016839606026012|101.88083908112122|\n|             Allianz|          Allianz SE|DE0008404005|  0.4400347414448432|  197.394812450701|\n|          IHS Markit|          IHS Markit|BMG475671050| 0.47315515996934104|  125.281612154311|\n|   Johnson &amp; Johnson|   JOHNSON &amp; JOHNSON|US4781601046|  0.6498438526081263|158.00992368922346|\n|             Ratepay|            Afterpay|AU000000APT1| -0.9396182270705361|103.97766841843115|\n|            Lonza AG|         Lonza Group|CH0013841017|  2.4723781974883883|  709.027505127758|\n|           Sartorius|        Sartorius AG|DE0007165631|   3.434192174109147| 528.0502360087851|\n| Erste Group Bank AG| Erste Group Bank AG|AT0000652011|  0.1575595254965943|37.544883886600395|\n|          Erste Bank| Erste Group Bank AG|AT0000652011|  0.1575595254965943|37.544883886600395|\n+--------------------+--------------------+------------+--------------------+------------------+\nonly showing top 20 rows\n\n</div>",
       "datasetInfos": [],
       "metadata": {},
       "removedWidgets": [],
       "type": "html"
      }
     },
     "output_type": "display_data"
    }
   ],
   "source": [
    "# join stock and job data\n",
    "companies_joined = job_companies.merge(stock_data, on = \"isin\", how = \"inner\")\n",
    "companies_joined_spark = sqlContext.createDataFrame(companies_joined)\n",
    "companies_joined_spark.show()"
   ]
  },
  {
   "cell_type": "code",
   "execution_count": 0,
   "metadata": {
    "application/vnd.databricks.v1+cell": {
     "inputWidgets": {},
     "nuid": "74fcc470-91ae-4ff2-83e6-abd59ae9d9bb",
     "showTitle": false,
     "title": ""
    }
   },
   "outputs": [
    {
     "data": {
      "text/html": [
       "<style scoped>\n",
       "  .ansiout {\n",
       "    display: block;\n",
       "    unicode-bidi: embed;\n",
       "    white-space: pre-wrap;\n",
       "    word-wrap: break-word;\n",
       "    word-break: break-all;\n",
       "    font-family: \"Source Code Pro\", \"Menlo\", monospace;;\n",
       "    font-size: 13px;\n",
       "    color: #555;\n",
       "    margin-left: 4px;\n",
       "    line-height: 19px;\n",
       "  }\n",
       "</style>\n",
       "<div class=\"ansiout\">Out[44]: </div>"
      ]
     },
     "metadata": {
      "application/vnd.databricks.v1+output": {
       "addedWidgets": {},
       "arguments": {},
       "data": "<div class=\"ansiout\">Out[44]: </div>",
       "datasetInfos": [],
       "metadata": {},
       "removedWidgets": [],
       "type": "html"
      }
     },
     "output_type": "display_data"
    },
    {
     "data": {
      "image/png": "[encoded data removed]"
     },
     "metadata": {
      "application/vnd.databricks.v1+output": {
       "addedWidgets": {},
       "arguments": {},
       "data": "data:image/png;base64,iVBORw0KGgoAAAANSUhEUgAAAXAAAAEICAYAAABGaK+TAAAAOXRFWHRTb2Z0d2FyZQBNYXRwbG90bGliIHZlcnNpb24zLjQuMiwgaHR0cHM6Ly9tYXRwbG90bGliLm9yZy8rg+JYAAAACXBIWXMAAAsTAAALEwEAmpwYAAATV0lEQVR4nO3df5Bdd33e8fcTix8eL7Xs2mwV2SAnOKSOVZx668AQmF0cwOFH7LTgOOMyUutWYSYwTKskFUkzCflp0nEYpknaqMGxmgJrj8G1xwKKqnrxMA12pGIibOPaGClYMVICssM6DunCJ3/sEeysVrp3d+/V1Vd9v2Z27j3fc+75Pr6+++js2XPvpqqQJLXnu0YdQJK0Mha4JDXKApekRlngktQoC1ySGmWBS1KjLHCd9pKMJ7k3ydeT3JR5f5jkSJL7k7wqySN97Of6JJ88GZmlfsTrwHW6S/KLwA8C/6yqKsmrgA8DL62qZ0aUqYCLq+qxUcyv04NH4Pr/wYuBh+o7RysvBvaPqrylQbHAdcpJcmGSjyb5iyRfTfI7Sb4ryb9PciDJ4ST/NcnZCx7z8iT/O8lTST6XZLIbvwXYBPxcktkkPwX8AfCKbvk9SSaTPHGi+bvxzUk+vWC770+yK8nXkjyS5NoF625J8rtJdnanbu5L8r3dunu7zT7XZfiJYT2XOr1Z4DqlJDkDuBs4AGwA1gPTwObuawr4HmAMOFqs64GdwK8B5wI/A3wkyflVtRn4IPBbVTVWVb8PvB344275l/qcf3HOs4BdwIeAFwLXAb+X5JIFm10HvAc4B3gM+HWAqnp1t/5lXYZbl/1ESVjgOvVcAXw38LNV9UxV/U1VfRq4Hvjtqnq8qmaBdwPXJVkD/HPgY1X1sar6VlXtAvYAbxjg/Iu9ifnTMH9YVXNV9VngI8BbF2xzR1XdX1VzzP8jctkK8kjHtWbUAaRFLgQOdKW30Hczf1R81AHmX7/jzJ/TfmuSNy9Y/xzgngHOv9iLgR9K8tSCsTXAHy1Y/sqC+3/N/E8N0sBY4DrVfBl4UZI1i0r0z5kvzaNeBMwBh7rH/FFV/eshzr/Udp+qqtcOYE5pRTyFolPN/cCTwI1Jzkry/CSvZP6yv3+T5KIkY8BvALd2JfvfgDcneX2SM7rHTCa5YIDzL3Y38H1J3pbkOd3XP0nyD/uc5xDz5/KlFbPAdUqpqm8CbwZeAvwZ8ATwE8DNzJ+euBf4EvA3wDu7x3wZuBr4eeAvmD86/llW8Po+wfyLt/s68Drmf1H558yfLnkv8Lw+p/plYEd31cy1vTaWluIbeSSpUR6BS1KjLHBJapQFLkmNssAlqVEn9Trw8847rzZs2HAyp/y2Z555hrPOOmskc69Wy9nB/KNm/tEaRP69e/f+ZVWdv3j8pBb4hg0b2LNnz8mc8ttmZmaYnJwcydyr1XJ2MP+omX+0BpE/yYGlxj2FIkmNssAlqVEWuCQ1ygKXpEZZ4JLUKAtckhplgUtSoyxwSWqUBS5JjfJPqkkjtmHbzqHuf+vGOTYvMcf+G9841Hk1fB6BS1KjLHBJalRfBZ5kbZLbk3whycNJXpHk3CS7kjza3Z4z7LCSpO/o9wj8/cAnqur7gZcBDwPbgN1VdTGwu1uWJJ0kPQs8ydnAq4EPAFTV31bVU8z/FfAd3WY7gGuGE1GStJSef5U+yWXAduAh5o++9wLvAg5W1dpumwBHji4vevwWYAvA+Pj45dPT04NLvwyzs7OMjY2NZO7Vajk7mL+XfQefHtq+AcbPhEPPHju+cf3ZQ513UHz9wNTU1N6qmlg83k+BTwCfAV5ZVfcleT/wV8A7FxZ2kiNVdcLz4BMTE+UfdFi+lrOD+Xs5GZcR3rTv2CuGW7mM0NcPJFmywPs5B/4E8ERV3dct3w78Y+BQknXdztcBh1eVUJK0LD0LvKq+Anw5yUu7oSuZP51yF7CpG9sE3DmUhJKkJfX7Tsx3Ah9M8lzgceBfMF/+tyW5ATgAXDuciJKkpfRV4FX1AHDM+Rfmj8YlSSPgOzElqVEWuCQ1ygKXpEZZ4JLUKAtckhplgUtSoyxwSWqUBS5JjbLAJalRFrgkNcoCl6RGWeCS1CgLXJIaZYFLUqMscElqlAUuSY2ywCWpURa4JDXKApekRlngktQoC1ySGmWBS1KjLHBJapQFLkmNssAlqVFr+tkoyX7g68A3gbmqmkhyLnArsAHYD1xbVUeGE1OStNhyjsCnquqyqprolrcBu6vqYmB3tyxJOklWcwrlamBHd38HcM2q00iS+paq6r1R8iXgCFDA71fV9iRPVdXabn2AI0eXFz12C7AFYHx8/PLp6enBpV+G2dlZxsbGRjL3arWcHczfy76DTw9t3wDjZ8KhZ48d37j+7KHOOyi+fmBqamrvgrMf39bXOXDgh6vqYJIXAruSfGHhyqqqJEv+S1BV24HtABMTEzU5Obm85AMyMzPDqOZerZazg/l72bxt59D2DbB14xw37Tv2W33/9ZNDnXdQfP0cX1+nUKrqYHd7GLgDuAI4lGQdQHd7eCgJJUlL6lngSc5K8oKj94HXAZ8H7gI2dZttAu4cVkhJ0rH6OYUyDtwxf5qbNcCHquoTSf4EuC3JDcAB4NrhxZQkLdazwKvqceBlS4x/FbhyGKEkSb35TkxJapQFLkmNssAlqVEWuCQ1ygKXpEZZ4JLUKAtckhplgUtSoyxwSWqUBS5JjbLAJalRFrgkNcoCl6RGWeCS1CgLXJIaZYFLUqMscElqlAUuSY2ywCWpURa4JDXKApekRlngktQoC1ySGmWBS1Kj+i7wJGck+WySu7vli5Lcl+SxJLcmee7wYkqSFlvOEfi7gIcXLL8XeF9VvQQ4AtwwyGCSpBPrq8CTXAC8EfiDbjnAa4Dbu012ANcMIZ8k6ThSVb03Sm4HfhN4AfAzwGbgM93RN0kuBD5eVZcu8dgtwBaA8fHxy6enpwcWfjlmZ2cZGxsbydyr1XJ2MH8v+w4+PbR9A4yfCYeePXZ84/qzhzrvoPj6gampqb1VNbF4fE2vByZ5E3C4qvYmmVzuxFW1HdgOMDExUZOTy97FQMzMzDCquVer5exg/l42b9s5tH0DbN04x037jv1W33/95FDnHRRfP8fXs8CBVwI/luQNwPOBvwe8H1ibZE1VzQEXAAeHklCStKSe58Cr6t1VdUFVbQCuA/5XVV0P3AO8pdtsE3Dn0FJKko6xmuvA/x3wb5M8Bvx94AODiSRJ6kc/p1C+rapmgJnu/uPAFYOPJEnqh+/ElKRGWeCS1CgLXJIaZYFLUqMscElqlAUuSY2ywCWpURa4JDXKApekRlngktQoC1ySGmWBS1KjLHBJapQFLkmNssAlqVEWuCQ1ygKXpEZZ4JLUKAtckhplgUtSoyxwSWqUBS5JjbLAJalRFrgkNapngSd5fpL7k3wuyYNJ3tONX5TkviSPJbk1yXOHH1eSdFQ/R+DfAF5TVS8DLgOuSvJy4L3A+6rqJcAR4IahpZQkHaNngde82W7xOd1XAa8Bbu/GdwDXDCOgJGlpfZ0DT3JGkgeAw8Au4IvAU1U1123yBLB+KAklSUtKVfW/cbIWuAP4ReCW7vQJSS4EPl5Vly7xmC3AFoDx8fHLp6enBxB7+WZnZxkbGxvJ3KvVcnYwfy/7Dj49tH0DjJ8Jh549dnzj+rOHOu+g+PqBqampvVU1sXh8zXJ2UlVPJbkHeAWwNsma7ij8AuDgcR6zHdgOMDExUZOTk8vNPhAzMzOMau7Vajk7mL+Xzdt2Dm3fAFs3znHTvmO/1fdfPznUeQfF18/x9XMVyvndkTdJzgReCzwM3AO8pdtsE3DnUBJKkpbUzxH4OmBHkjOYL/zbquruJA8B00l+Dfgs8IEh5pQkLdKzwKvqT4EfXGL8ceCKYYSSJPXmOzElqVEWuCQ1ygKXpEZZ4JLUKAtckhplgUtSoyxwSWqUBS5JjbLAJalRFrgkNcoCl6RGWeCS1CgLXJIaZYFLUqMscElqlAUuSY2ywCWpURa4JDXKApekRlngktQoC1ySGmWBS1KjLHBJapQFLkmNssAlqVE9CzzJhUnuSfJQkgeTvKsbPzfJriSPdrfnDD+uJOmofo7A54CtVXUJ8HLgp5NcAmwDdlfVxcDublmSdJL0LPCqerKq/k93/+vAw8B64GpgR7fZDuCaIWWUJC0hVdX/xskG4F7gUuDPqmptNx7gyNHlRY/ZAmwBGB8fv3x6enrVoVdidnaWsbGxkcy9Wi1nB/P3su/g00PbN8D4mXDo2WPHN64/e6jzDoqvH5iamtpbVROLx/su8CRjwKeAX6+qjyZ5amFhJzlSVSc8Dz4xMVF79uxZXvIBmZmZYXJyciRzr1bL2cH8vWzYtnNo+wbYunGOm/atOWZ8/41vHOq8g+LrB5IsWeB9XYWS5DnAR4APVtVHu+FDSdZ169cBh1eVUJK0LP1chRLgA8DDVfXbC1bdBWzq7m8C7hx8PEnS8Rz7c9WxXgm8DdiX5IFu7OeBG4HbktwAHACuHUpCSdKSehZ4VX0ayHFWXznYOJKkfvlOTElqlAUuSY2ywCWpURa4JDXKApekRlngktQoC1ySGmWBS1KjLHBJapQFLkmNssAlqVEWuCQ1ygKXpEZZ4JLUqH4+D1zSaWjYf8rtRFr5c26nOo/AJalRFrgkNcoCl6RGWeCS1CgLXJIaZYFLUqMscElqlAUuSY2ywCWpUT0LPMnNSQ4n+fyCsXOT7EryaHd7znBjSpIW6+cI/BbgqkVj24DdVXUxsLtbliSdRD0LvKruBb62aPhqYEd3fwdwzWBjSZJ6SVX13ijZANxdVZd2y09V1drufoAjR5eXeOwWYAvA+Pj45dPT0wMJvlyzs7OMjY2NZO7Vajk7mL+XfQefHtq+AcbPhEPPDnWKZdu4/uy+t/X1A1NTU3uramLx+Ko/jbCqKslx/xWoqu3AdoCJiYmanJxc7ZQrMjMzw6jmXq2Ws4P5e9k85E8F3Lpxjpv2nVofPLr/+sm+t/X1c3wrvQrlUJJ1AN3t4cFFkiT1Y6UFfhewqbu/CbhzMHEkSf3q5zLCDwN/DLw0yRNJbgBuBF6b5FHgR7plSdJJ1PPEWFX95HFWXTngLJKkZfCdmJLUKAtckhplgUtSoyxwSWqUBS5JjbLAJalRFrgkNcoCl6RGWeCS1CgLXJIaZYFLUqMscElqlAUuSY2ywCWpURa4JDXKApekRlngktQoC1ySGmWBS1KjLHBJapQFLkmN6vlX6SXpdLFh286TPufWjXNMDmnfHoFLUqMscElqVDOnUFb7o8/WjXNsXsE+9t/4xlXNuxpH/5tXmv1U0UL+Uf5/llZqVUfgSa5K8kiSx5JsG1QoSVJvKy7wJGcAvwv8KHAJ8JNJLhlUMEnSia3mCPwK4LGqeryq/haYBq4eTCxJUi+pqpU9MHkLcFVV/atu+W3AD1XVOxZttwXY0i2+FHhk5XFX5TzgL0c092q1nB3MP2rmH61B5H9xVZ2/eHDov8Ssqu3A9mHP00uSPVU1MeocK9FydjD/qJl/tIaZfzWnUA4CFy5YvqAbkySdBKsp8D8BLk5yUZLnAtcBdw0mliSplxWfQqmquSTvAP4HcAZwc1U9OLBkgzfy0zir0HJ2MP+omX+0hpZ/xb/ElCSNlm+ll6RGWeCS1KjTusCT/IckX0jyp0nuSLJ2wbp3dx8B8EiS148w5nEleWuSB5N8K8nEgvENSZ5N8kD39Z9HmfN4jpe/W3fKP/8LJfnlJAcXPOdvGHWmXlr/qIsk+5Ps657vPaPO00uSm5McTvL5BWPnJtmV5NHu9pxBznlaFziwC7i0qv4R8H+BdwN0b/m/DvgB4Crg97qPBjjVfB74p8C9S6z7YlVd1n29/STn6teS+Rt6/hd734Ln/GOjDnMip9FHXUx1z3cL14HfwvzreaFtwO6quhjY3S0PzGld4FX1yaqa6xY/w/y16jD/lv/pqvpGVX0JeIz5jwY4pVTVw1U1qneurtoJ8jfx/DfOj7o4yarqXuBri4avBnZ093cA1wxyztO6wBf5l8DHu/vrgS8vWPdEN9aSi5J8Nsmnkrxq1GGWqdXn/x3d6bibB/2j8BC0+hwvVMAnk+ztPpKjReNV9WR3/yvA+CB33szngR9Pkv8J/IMlVv1CVd3ZbfMLwBzwwZOZrR/95F/Ck8CLquqrSS4H/nuSH6iqvxpa0ONYYf5T0on+W4D/BPwq86Xyq8BNzB8UaHh+uKoOJnkhsCvJF7qj3CZVVSUZ6HXbzRd4Vf3IidYn2Qy8CbiyvnPR+ynzMQC98h/nMd8AvtHd35vki8D3ASf9Fz0ryc8p9Pwv1O9/S5L/Atw95DirdUo+x8tRVQe728NJ7mD+tFBrBX4oybqqejLJOuDwIHd+Wp9CSXIV8HPAj1XVXy9YdRdwXZLnJbkIuBi4fxQZVyLJ+Ud/6Zfke5jP//hoUy1Lc89/98131I8z/wvaU1nTH3WR5KwkLzh6H3gdp/5zvpS7gE3d/U3AQH8qbf4IvIffAZ7H/I9fAJ+pqrdX1YNJbgMeYv7Uyk9X1TdHmHNJSX4c+I/A+cDOJA9U1euBVwO/kuT/Ad8C3l5Vi395MnLHy9/K87/IbyW5jPlTKPuBnxppmh4a/KiLxcaBO7rv2zXAh6rqE6ONdGJJPgxMAucleQL4JeBG4LYkNwAHgGsHOqdvpZekNp3Wp1Ak6XRmgUtSoyxwSWqUBS5JjbLAJalRFrgkNcoCl6RG/R04LUzMiNgyJgAAAABJRU5ErkJggg==",
       "datasetInfos": [],
       "metadata": {
        "imageDimensions": {
         "height": 264,
         "width": 368
        }
       },
       "removedWidgets": [],
       "type": "image"
      },
      "image/png": {
       "height": 264,
       "width": 368
      }
     },
     "output_type": "display_data"
    },
    {
     "data": {
      "text/html": [
       "<style scoped>\n",
       "  .ansiout {\n",
       "    display: block;\n",
       "    unicode-bidi: embed;\n",
       "    white-space: pre-wrap;\n",
       "    word-wrap: break-word;\n",
       "    word-break: break-all;\n",
       "    font-family: \"Source Code Pro\", \"Menlo\", monospace;;\n",
       "    font-size: 13px;\n",
       "    color: #555;\n",
       "    margin-left: 4px;\n",
       "    line-height: 19px;\n",
       "  }\n",
       "</style>\n",
       "<div class=\"ansiout\">array([[&lt;AxesSubplot:title={&#39;center&#39;:&#39;coefficient&#39;}&gt;]], dtype=object)</div>"
      ]
     },
     "metadata": {
      "application/vnd.databricks.v1+output": {
       "addedWidgets": {},
       "arguments": {},
       "data": "<div class=\"ansiout\">array([[&lt;AxesSubplot:title={&#39;center&#39;:&#39;coefficient&#39;}&gt;]], dtype=object)</div>",
       "datasetInfos": [],
       "metadata": {},
       "removedWidgets": [],
       "type": "html"
      }
     },
     "output_type": "display_data"
    }
   ],
   "source": [
    "# check distribution of coefficients\n",
    "companies_joined[[\"coefficient\"]].hist(bins = 10)"
   ]
  },
  {
   "cell_type": "code",
   "execution_count": 0,
   "metadata": {
    "application/vnd.databricks.v1+cell": {
     "inputWidgets": {},
     "nuid": "4bd93cbc-535e-47cc-8f07-627665d4fb7c",
     "showTitle": false,
     "title": ""
    }
   },
   "outputs": [
    {
     "data": {
      "text/html": [
       "<style scoped>\n",
       "  .ansiout {\n",
       "    display: block;\n",
       "    unicode-bidi: embed;\n",
       "    white-space: pre-wrap;\n",
       "    word-wrap: break-word;\n",
       "    word-break: break-all;\n",
       "    font-family: \"Source Code Pro\", \"Menlo\", monospace;;\n",
       "    font-size: 13px;\n",
       "    color: #555;\n",
       "    margin-left: 4px;\n",
       "    line-height: 19px;\n",
       "  }\n",
       "</style>\n",
       "<div class=\"ansiout\"></div>"
      ]
     },
     "metadata": {
      "application/vnd.databricks.v1+output": {
       "addedWidgets": {},
       "arguments": {},
       "data": "<div class=\"ansiout\"></div>",
       "datasetInfos": [],
       "metadata": {},
       "removedWidgets": [],
       "type": "html"
      }
     },
     "output_type": "display_data"
    }
   ],
   "source": [
    "# add a column with clean and stripped description\n",
    "remove_punctuation_UDF = udf(lambda x : remove_punctuation(x))\n",
    "df2 = df2.withColumn('descriptionStripped', remove_punctuation_UDF('description'))"
   ]
  },
  {
   "cell_type": "code",
   "execution_count": 0,
   "metadata": {
    "application/vnd.databricks.v1+cell": {
     "inputWidgets": {},
     "nuid": "cc92c2e1-382b-42f6-8802-3f7ee72a324a",
     "showTitle": false,
     "title": ""
    }
   },
   "outputs": [
    {
     "data": {
      "text/html": [
       "<style scoped>\n",
       "  .ansiout {\n",
       "    display: block;\n",
       "    unicode-bidi: embed;\n",
       "    white-space: pre-wrap;\n",
       "    word-wrap: break-word;\n",
       "    word-break: break-all;\n",
       "    font-family: \"Source Code Pro\", \"Menlo\", monospace;;\n",
       "    font-size: 13px;\n",
       "    color: #555;\n",
       "    margin-left: 4px;\n",
       "    line-height: 19px;\n",
       "  }\n",
       "</style>\n",
       "<div class=\"ansiout\">+--------------------+--------------------+----------+--------------------+--------------------+--------------------+--------------------+--------------------+--------------------+--------------------+--------------------+--------------------+--------------------+-------------------+------------+-------------------+------------------+\n",
       "        company_name|                 _id|      date|         description| detected_extensions|          extensions|              job_id|            location|   location_extended|           thumbnail|               title|                 via| descriptionStripped|      company_stock|        isin|        coefficient|         intersept|\n",
       "+--------------------+--------------------+----------+--------------------+--------------------+--------------------+--------------------+--------------------+--------------------+--------------------+--------------------+--------------------+--------------------+-------------------+------------+-------------------+------------------+\n",
       "            Adverity|{61bf61b6862fcdcc...|2021-12-19|At Adverity data ...|{21 days ago, nul...|[21 days ago, Wor...|eyJqb2JfdGl0bGUiO...|            Anywhere|{Anywhere, Anywhe...|https://encrypted...|DATA WAREHOUSING ...|         VentureLoop|at adverity data ...|               null|        null|               null|              null|\n",
       "            Adverity|{61bf61b3862fcdcc...|2021-12-19|We are looking fo...|{7 days ago, null...|[7 days ago, Work...|eyJqb2JfdGl0bGUiO...|            Anywhere|{Anywhere, Anywhe...|https://encrypted...|Technical Product...|         VentureLoop|we are looking fo...|               null|        null|               null|              null|\n",
       "Borg Collective GmbH|{61bf74ce862fcdcc...|2021-12-19|Company descripti...|{null, null, Full...|[Work from home, ...|eyJqb2JfdGl0bGUiO...|            Anywhere|{Anywhere, Anywhe...|                null|      Data Scientist|         Laimoon.com|company descripti...|               null|        null|               null|              null|\n",
       "            Collibra|{61bf5851862fcdcc...|2021-12-19|Meeting your futu...|{null, null, Full...|[Work from home, ...|eyJqb2JfdGl0bGUiO...|            Anywhere|{Anywhere, Anywhe...|                null|Sales Engineer - ...|      Index Ventures|meeting your futu...|               null|        null|               null|              null|\n",
       "                GITR|{61bf75df862fcdcc...|2021-12-19|EINFÜHRUNG:\n",
       "Our p...|{4 days ago, null...|[4 days ago, Work...|eyJqb2JfdGl0bGUiO...|            Anywhere|{Anywhere, Anywhe...|https://encrypted...|Senior Data Engineer|           Glassdoor|einführung our pr...|               null|        null|               null|              null|\n",
       "         PriceHubble|{61bf61b8862fcdcc...|2021-12-19|About PriceHubble...|{24 days ago, nul...|[24 days ago, Wor...|eyJqb2JfdGl0bGUiO...|            Anywhere|{Anywhere, Anywhe...|                null|Senior Data Scien...|         VentureLoop|about pricehubble...|               null|        null|               null|              null|\n",
       "               Scimm|{61bf61b9862fcdcc...|2021-12-19|Data Entry Form S...|{null, 10–20 an h...|[10–20 an hour, W...|eyJqb2JfdGl0bGUiO...|            Anywhere|{Anywhere, Anywhe...|                null|Data Entry Form S...|             Plajobs|data entry form s...|               null|        null|               null|              null|\n",
       "        Utopia Music|{61bf65b8862fcdcc...|2021-12-19|Join the Utopia D...|{Over 1 month ago...|[Over 1 month ago...|eyJqb2JfdGl0bGUiO...|            Anywhere|{Anywhere, Anywhe...|https://encrypted...|       Data Engineer|        Utopia Music|join the utopia d...|               null|        null|               null|              null|\n",
       "              kununu|{61bf61b6862fcdcc...|2021-12-19|Position: Data En...|{null, null, Full...|[Work from home, ...|eyJqb2JfdGl0bGUiO...|            Anywhere|{Anywhere, Anywhe...|                null|       Data Engineer|      Learn4Good.com|position data eng...|               null|        null|               null|              null|\n",
       "        Aiconic B.V.|{61bf61b5862fcdcc...|2021-12-19|Aiconic is lookin...|{9 days ago, null...|[9 days ago, Full...|eyJqb2JfdGl0bGUiO...|             Austria|{, Austria, 13.19...|                null|Data Systems Engi...|          Monster.at|aiconic is lookin...|               null|        null|               null|              null|\n",
       "               Canva|{61bf61b8862fcdcc...|2021-12-19|View Job Details\n",
       "...|{null, null, Full...|[Full-time, No de...|eyJqb2JfdGl0bGUiO...|             Austria|{, Austria, 13.19...|https://encrypted...|Product Designer ...|           Incluzion|view job details ...|           Carnival|PA1436583006|0.21442974151704772|16.159255654268662|\n",
       "ISG International...|{61bf61b9862fcdcc...|2021-12-19|Our client is a w...|{null, null, Full...|[Full-time, No de...|eyJqb2JfdGl0bGUiO...|             Austria|{, Austria, 13.19...|https://encrypted...|Data Governance C...|               BeBee|our client is a w...|Service Corporation|US8175651046|0.18908667394196116| 65.90976826471052|\n",
       "Project A Service...|{61bf61b8862fcdcc...|2021-12-19|We are looking fo...|{4 days ago, null...|[4 days ago, Full...|eyJqb2JfdGl0bGUiO...|             Austria|{, Austria, 13.19...|                null|       Data Engineer|              Jooble|we are looking fo...|               null|        null|               null|              null|\n",
       "           RemoteHub|{61bf61b7862fcdcc...|2021-12-19|Primary Duties an...|{6 days ago, null...|[6 days ago, Full...|eyJqb2JfdGl0bGUiO...|             Austria|{, Austria, 13.19...|https://encrypted...|      Data Engineeer|    Jobs Trabajo.org|primary duties an...|               null|        null|               null|              null|\n",
       "           RemoteHub|{61bf61b8862fcdcc...|2021-12-19|Millions of peopl...|{6 days ago, null...|[6 days ago, Full...|eyJqb2JfdGl0bGUiO...|             Austria|{, Austria, 13.19...|https://encrypted...|Senior Data Scien...|    Jobs Trabajo.org|millions of peopl...|               null|        null|               null|              null|\n",
       "       Thermo Fisher|{61bf61b3862fcdcc...|2021-12-19|Sr BI Analyst – F...|{2 days ago, null...|[2 days ago, Full...|eyJqb2JfdGl0bGUiO...|Austria (+11 others)|{, Austria, 13.19...|https://encrypted...|     Sr Data Analyst|Thermo Fisher Sci...|sr bi analyst  fi...|               null|        null|               null|              null|\n",
       "Universities and ...|{61bf61b5862fcdcc...|2021-12-19|• Organisation/Co...|{Over 1 month ago...|[Over 1 month ago...|eyJqb2JfdGl0bGUiO...|             Austria|{, Austria, 13.19...|https://encrypted...|Fully-Funded Ph.D...|       AcademicGates|organisationcompa...|               null|        null|               null|              null|\n",
       "Universities and ...|{61bf61b7862fcdcc...|2021-12-19|• Organisation/Co...|{Over 1 month ago...|[Over 1 month ago...|eyJqb2JfdGl0bGUiO...|             Austria|{, Austria, 13.19...|https://encrypted...|Tenure-Track Prof...|       AcademicGates|organisationcompa...|               null|        null|               null|              null|\n",
       "Red Bull Media House|{61bf61b3862fcdcc...|2021-12-19|In this permanent...|{Over 1 month ago...|[Over 1 month ago...|eyJqb2JfdGl0bGUiO...|  Elsbethen, Austria|{Elsbethen, Austr...|https://encrypted...|Digital Data &amp; An...|       Red Bull Jobs|in this permanent...|               null|        null|               null|              null|\n",
       "       Red Bull GmbH|{61bf61b2862fcdcc...|2021-12-19|You’ll assist wit...|{5 days ago, null...|[5 days ago, Full...|eyJqb2JfdGl0bGUiO...|     Fuschl, Austria|{Fuschl, Austria,...|https://encrypted...|Legal Counsel Dat...|       Red Bull Jobs|youll assist with...|               null|        null|               null|              null|\n",
       "+--------------------+--------------------+----------+--------------------+--------------------+--------------------+--------------------+--------------------+--------------------+--------------------+--------------------+--------------------+--------------------+-------------------+------------+-------------------+------------------+\n",
       "only showing top 20 rows\n",
       "\n",
       "</div>"
      ]
     },
     "metadata": {
      "application/vnd.databricks.v1+output": {
       "addedWidgets": {},
       "arguments": {},
       "data": "<div class=\"ansiout\">+--------------------+--------------------+----------+--------------------+--------------------+--------------------+--------------------+--------------------+--------------------+--------------------+--------------------+--------------------+--------------------+-------------------+------------+-------------------+------------------+\n|        company_name|                 _id|      date|         description| detected_extensions|          extensions|              job_id|            location|   location_extended|           thumbnail|               title|                 via| descriptionStripped|      company_stock|        isin|        coefficient|         intersept|\n+--------------------+--------------------+----------+--------------------+--------------------+--------------------+--------------------+--------------------+--------------------+--------------------+--------------------+--------------------+--------------------+-------------------+------------+-------------------+------------------+\n|            Adverity|{61bf61b6862fcdcc...|2021-12-19|At Adverity data ...|{21 days ago, nul...|[21 days ago, Wor...|eyJqb2JfdGl0bGUiO...|            Anywhere|{Anywhere, Anywhe...|https://encrypted...|DATA WAREHOUSING ...|         VentureLoop|at adverity data ...|               null|        null|               null|              null|\n|            Adverity|{61bf61b3862fcdcc...|2021-12-19|We are looking fo...|{7 days ago, null...|[7 days ago, Work...|eyJqb2JfdGl0bGUiO...|            Anywhere|{Anywhere, Anywhe...|https://encrypted...|Technical Product...|         VentureLoop|we are looking fo...|               null|        null|               null|              null|\n|Borg Collective GmbH|{61bf74ce862fcdcc...|2021-12-19|Company descripti...|{null, null, Full...|[Work from home, ...|eyJqb2JfdGl0bGUiO...|            Anywhere|{Anywhere, Anywhe...|                null|      Data Scientist|         Laimoon.com|company descripti...|               null|        null|               null|              null|\n|            Collibra|{61bf5851862fcdcc...|2021-12-19|Meeting your futu...|{null, null, Full...|[Work from home, ...|eyJqb2JfdGl0bGUiO...|            Anywhere|{Anywhere, Anywhe...|                null|Sales Engineer - ...|      Index Ventures|meeting your futu...|               null|        null|               null|              null|\n|                GITR|{61bf75df862fcdcc...|2021-12-19|EINFÜHRUNG:\nOur p...|{4 days ago, null...|[4 days ago, Work...|eyJqb2JfdGl0bGUiO...|            Anywhere|{Anywhere, Anywhe...|https://encrypted...|Senior Data Engineer|           Glassdoor|einführung our pr...|               null|        null|               null|              null|\n|         PriceHubble|{61bf61b8862fcdcc...|2021-12-19|About PriceHubble...|{24 days ago, nul...|[24 days ago, Wor...|eyJqb2JfdGl0bGUiO...|            Anywhere|{Anywhere, Anywhe...|                null|Senior Data Scien...|         VentureLoop|about pricehubble...|               null|        null|               null|              null|\n|               Scimm|{61bf61b9862fcdcc...|2021-12-19|Data Entry Form S...|{null, 10–20 an h...|[10–20 an hour, W...|eyJqb2JfdGl0bGUiO...|            Anywhere|{Anywhere, Anywhe...|                null|Data Entry Form S...|             Plajobs|data entry form s...|               null|        null|               null|              null|\n|        Utopia Music|{61bf65b8862fcdcc...|2021-12-19|Join the Utopia D...|{Over 1 month ago...|[Over 1 month ago...|eyJqb2JfdGl0bGUiO...|            Anywhere|{Anywhere, Anywhe...|https://encrypted...|       Data Engineer|        Utopia Music|join the utopia d...|               null|        null|               null|              null|\n|              kununu|{61bf61b6862fcdcc...|2021-12-19|Position: Data En...|{null, null, Full...|[Work from home, ...|eyJqb2JfdGl0bGUiO...|            Anywhere|{Anywhere, Anywhe...|                null|       Data Engineer|      Learn4Good.com|position data eng...|               null|        null|               null|              null|\n|        Aiconic B.V.|{61bf61b5862fcdcc...|2021-12-19|Aiconic is lookin...|{9 days ago, null...|[9 days ago, Full...|eyJqb2JfdGl0bGUiO...|             Austria|{, Austria, 13.19...|                null|Data Systems Engi...|          Monster.at|aiconic is lookin...|               null|        null|               null|              null|\n|               Canva|{61bf61b8862fcdcc...|2021-12-19|View Job Details\n...|{null, null, Full...|[Full-time, No de...|eyJqb2JfdGl0bGUiO...|             Austria|{, Austria, 13.19...|https://encrypted...|Product Designer ...|           Incluzion|view job details ...|           Carnival|PA1436583006|0.21442974151704772|16.159255654268662|\n|ISG International...|{61bf61b9862fcdcc...|2021-12-19|Our client is a w...|{null, null, Full...|[Full-time, No de...|eyJqb2JfdGl0bGUiO...|             Austria|{, Austria, 13.19...|https://encrypted...|Data Governance C...|               BeBee|our client is a w...|Service Corporation|US8175651046|0.18908667394196116| 65.90976826471052|\n|Project A Service...|{61bf61b8862fcdcc...|2021-12-19|We are looking fo...|{4 days ago, null...|[4 days ago, Full...|eyJqb2JfdGl0bGUiO...|             Austria|{, Austria, 13.19...|                null|       Data Engineer|              Jooble|we are looking fo...|               null|        null|               null|              null|\n|           RemoteHub|{61bf61b7862fcdcc...|2021-12-19|Primary Duties an...|{6 days ago, null...|[6 days ago, Full...|eyJqb2JfdGl0bGUiO...|             Austria|{, Austria, 13.19...|https://encrypted...|      Data Engineeer|    Jobs Trabajo.org|primary duties an...|               null|        null|               null|              null|\n|           RemoteHub|{61bf61b8862fcdcc...|2021-12-19|Millions of peopl...|{6 days ago, null...|[6 days ago, Full...|eyJqb2JfdGl0bGUiO...|             Austria|{, Austria, 13.19...|https://encrypted...|Senior Data Scien...|    Jobs Trabajo.org|millions of peopl...|               null|        null|               null|              null|\n|       Thermo Fisher|{61bf61b3862fcdcc...|2021-12-19|Sr BI Analyst – F...|{2 days ago, null...|[2 days ago, Full...|eyJqb2JfdGl0bGUiO...|Austria (+11 others)|{, Austria, 13.19...|https://encrypted...|     Sr Data Analyst|Thermo Fisher Sci...|sr bi analyst  fi...|               null|        null|               null|              null|\n|Universities and ...|{61bf61b5862fcdcc...|2021-12-19|• Organisation/Co...|{Over 1 month ago...|[Over 1 month ago...|eyJqb2JfdGl0bGUiO...|             Austria|{, Austria, 13.19...|https://encrypted...|Fully-Funded Ph.D...|       AcademicGates|organisationcompa...|               null|        null|               null|              null|\n|Universities and ...|{61bf61b7862fcdcc...|2021-12-19|• Organisation/Co...|{Over 1 month ago...|[Over 1 month ago...|eyJqb2JfdGl0bGUiO...|             Austria|{, Austria, 13.19...|https://encrypted...|Tenure-Track Prof...|       AcademicGates|organisationcompa...|               null|        null|               null|              null|\n|Red Bull Media House|{61bf61b3862fcdcc...|2021-12-19|In this permanent...|{Over 1 month ago...|[Over 1 month ago...|eyJqb2JfdGl0bGUiO...|  Elsbethen, Austria|{Elsbethen, Austr...|https://encrypted...|Digital Data &amp; An...|       Red Bull Jobs|in this permanent...|               null|        null|               null|              null|\n|       Red Bull GmbH|{61bf61b2862fcdcc...|2021-12-19|You’ll assist wit...|{5 days ago, null...|[5 days ago, Full...|eyJqb2JfdGl0bGUiO...|     Fuschl, Austria|{Fuschl, Austria,...|https://encrypted...|Legal Counsel Dat...|       Red Bull Jobs|youll assist with...|               null|        null|               null|              null|\n+--------------------+--------------------+----------+--------------------+--------------------+--------------------+--------------------+--------------------+--------------------+--------------------+--------------------+--------------------+--------------------+-------------------+------------+-------------------+------------------+\nonly showing top 20 rows\n\n</div>",
       "datasetInfos": [],
       "metadata": {},
       "removedWidgets": [],
       "type": "html"
      }
     },
     "output_type": "display_data"
    }
   ],
   "source": [
    "# add result of analysis to spark df\n",
    "df3 = df2.join(companies_joined_spark, on=\"company_name\", how=\"left\")\n",
    "df3.show()"
   ]
  },
  {
   "cell_type": "code",
   "execution_count": 0,
   "metadata": {
    "application/vnd.databricks.v1+cell": {
     "inputWidgets": {},
     "nuid": "7f024222-3776-4a7c-8855-735f5e178139",
     "showTitle": false,
     "title": ""
    }
   },
   "outputs": [
    {
     "data": {
      "text/html": [
       "<style scoped>\n",
       "  .ansiout {\n",
       "    display: block;\n",
       "    unicode-bidi: embed;\n",
       "    white-space: pre-wrap;\n",
       "    word-wrap: break-word;\n",
       "    word-break: break-all;\n",
       "    font-family: \"Source Code Pro\", \"Menlo\", monospace;;\n",
       "    font-size: 13px;\n",
       "    color: #555;\n",
       "    margin-left: 4px;\n",
       "    line-height: 19px;\n",
       "  }\n",
       "</style>\n",
       "<div class=\"ansiout\"></div>"
      ]
     },
     "metadata": {
      "application/vnd.databricks.v1+output": {
       "addedWidgets": {},
       "arguments": {},
       "data": "<div class=\"ansiout\"></div>",
       "datasetInfos": [],
       "metadata": {},
       "removedWidgets": [],
       "type": "html"
      }
     },
     "output_type": "display_data"
    }
   ],
   "source": [
    "# select columns that will be written to db\n",
    "df_write = df3.select(\"company_name\",\n",
    "         \"company_stock\",\n",
    "          \"isin\",\n",
    "          \"description\",\n",
    "          \"descriptionStripped\",\n",
    "          \"title\",\n",
    "          \"detected_extensions.salary\",\n",
    "          \"detected_extensions.schedule_type\",\n",
    "          \"date\",\n",
    "          \"coefficient\",\n",
    "          \"intersept\",\n",
    "          \"location_extended.city\",\n",
    "          \"location_extended.country\",\n",
    "          \"location_extended.longitude\",\n",
    "          \"location_extended.latitude\",\n",
    "          \"via\")"
   ]
  },
  {
   "cell_type": "code",
   "execution_count": 0,
   "metadata": {
    "application/vnd.databricks.v1+cell": {
     "inputWidgets": {},
     "nuid": "fc7d42ee-3d75-4b21-84a0-da82d984799b",
     "showTitle": false,
     "title": ""
    }
   },
   "outputs": [
    {
     "data": {
      "text/html": [
       "<style scoped>\n",
       "  .ansiout {\n",
       "    display: block;\n",
       "    unicode-bidi: embed;\n",
       "    white-space: pre-wrap;\n",
       "    word-wrap: break-word;\n",
       "    word-break: break-all;\n",
       "    font-family: \"Source Code Pro\", \"Menlo\", monospace;;\n",
       "    font-size: 13px;\n",
       "    color: #555;\n",
       "    margin-left: 4px;\n",
       "    line-height: 19px;\n",
       "  }\n",
       "</style>\n",
       "<div class=\"ansiout\"></div>"
      ]
     },
     "metadata": {
      "application/vnd.databricks.v1+output": {
       "addedWidgets": {},
       "arguments": {},
       "data": "<div class=\"ansiout\"></div>",
       "datasetInfos": [],
       "metadata": {},
       "removedWidgets": [],
       "type": "html"
      }
     },
     "output_type": "display_data"
    }
   ],
   "source": [
    "# for connecting to postgres\n",
    "params = {\"host\": \"dsc-inf.postgres.database.azure.com\",\n",
    "            \"port\": 5432,\n",
    "            \"database\": \"nyt_import\",\n",
    "            \"user\": \"ds21m031\",\n",
    "            \"pass\": \"surf1234\"}\n",
    "tableName = 'ds21_b1_jobs_result'\n"
   ]
  },
  {
   "cell_type": "code",
   "execution_count": 0,
   "metadata": {
    "application/vnd.databricks.v1+cell": {
     "inputWidgets": {},
     "nuid": "8e5de1b1-9d68-4445-9b71-29b1f29b4e8a",
     "showTitle": false,
     "title": ""
    }
   },
   "outputs": [
    {
     "data": {
      "text/html": [
       "<style scoped>\n",
       "  .ansiout {\n",
       "    display: block;\n",
       "    unicode-bidi: embed;\n",
       "    white-space: pre-wrap;\n",
       "    word-wrap: break-word;\n",
       "    word-break: break-all;\n",
       "    font-family: \"Source Code Pro\", \"Menlo\", monospace;;\n",
       "    font-size: 13px;\n",
       "    color: #555;\n",
       "    margin-left: 4px;\n",
       "    line-height: 19px;\n",
       "  }\n",
       "</style>\n",
       "<div class=\"ansiout\">ds21_b1_jobs_result\n",
       "</div>"
      ]
     },
     "metadata": {
      "application/vnd.databricks.v1+output": {
       "addedWidgets": {},
       "arguments": {},
       "data": "<div class=\"ansiout\">ds21_b1_jobs_result\n</div>",
       "datasetInfos": [],
       "metadata": {},
       "removedWidgets": [],
       "type": "html"
      }
     },
     "output_type": "display_data"
    }
   ],
   "source": [
    "# write result to postgres\n",
    "insert_job_result_to_postgres(df_write, params, tableName)"
   ]
  },
  {
   "cell_type": "code",
   "execution_count": 0,
   "metadata": {
    "application/vnd.databricks.v1+cell": {
     "inputWidgets": {},
     "nuid": "aca337b6-c7db-4149-9615-b03d37316cd6",
     "showTitle": false,
     "title": ""
    }
   },
   "outputs": [
    {
     "data": {
      "text/html": [
       "<style scoped>\n",
       "  .ansiout {\n",
       "    display: block;\n",
       "    unicode-bidi: embed;\n",
       "    white-space: pre-wrap;\n",
       "    word-wrap: break-word;\n",
       "    word-break: break-all;\n",
       "    font-family: \"Source Code Pro\", \"Menlo\", monospace;;\n",
       "    font-size: 13px;\n",
       "    color: #555;\n",
       "    margin-left: 4px;\n",
       "    line-height: 19px;\n",
       "  }\n",
       "</style>\n",
       "<div class=\"ansiout\"></div>"
      ]
     },
     "metadata": {
      "application/vnd.databricks.v1+output": {
       "addedWidgets": {},
       "arguments": {},
       "data": "<div class=\"ansiout\"></div>",
       "datasetInfos": [],
       "metadata": {},
       "removedWidgets": [],
       "type": "html"
      }
     },
     "output_type": "display_data"
    }
   ],
   "source": [
    "#def send_to_kafka(rows):\n",
    "#    kafkaServer = \"server1.databricks.training:9092\"  \n",
    "#    producer = KafkaProducer(bootstrap_servers=[kafkaServer])\n",
    "#        producer.send(topic,str(row.asDict()))  \n",
    "#        producer.flush()\n",
    "#    print(\"company_name\")\n"
   ]
  },
  {
   "cell_type": "code",
   "execution_count": 0,
   "metadata": {
    "application/vnd.databricks.v1+cell": {
     "inputWidgets": {},
     "nuid": "5ceacfec-3321-4730-87b9-0701de74481f",
     "showTitle": false,
     "title": ""
    }
   },
   "outputs": [
    {
     "data": {
      "text/html": [
       "<style scoped>\n",
       "  .ansiout {\n",
       "    display: block;\n",
       "    unicode-bidi: embed;\n",
       "    white-space: pre-wrap;\n",
       "    word-wrap: break-word;\n",
       "    word-break: break-all;\n",
       "    font-family: \"Source Code Pro\", \"Menlo\", monospace;;\n",
       "    font-size: 13px;\n",
       "    color: #555;\n",
       "    margin-left: 4px;\n",
       "    line-height: 19px;\n",
       "  }\n",
       "</style>\n",
       "<div class=\"ansiout\"></div>"
      ]
     },
     "metadata": {
      "application/vnd.databricks.v1+output": {
       "addedWidgets": {},
       "arguments": {},
       "data": "<div class=\"ansiout\"></div>",
       "datasetInfos": [],
       "metadata": {},
       "removedWidgets": [],
       "type": "html"
      }
     },
     "output_type": "display_data"
    },
    {
     "data": {
      "text/html": [
       "<style scoped>\n",
       "  .ansiout {\n",
       "    display: block;\n",
       "    unicode-bidi: embed;\n",
       "    white-space: pre-wrap;\n",
       "    word-wrap: break-word;\n",
       "    word-break: break-all;\n",
       "    font-family: \"Source Code Pro\", \"Menlo\", monospace;;\n",
       "    font-size: 13px;\n",
       "    color: #555;\n",
       "    margin-left: 4px;\n",
       "    line-height: 19px;\n",
       "  }\n",
       "</style>"
      ]
     },
     "metadata": {
      "application/vnd.databricks.v1+output": {
       "arguments": {},
       "data": "",
       "errorSummary": "Cancelled",
       "errorTraceType": "html",
       "metadata": {},
       "type": "ipynbError"
      }
     },
     "output_type": "display_data"
    }
   ],
   "source": [
    "#df3.foreach(send_to_kafka)"
   ]
  },
  {
   "cell_type": "code",
   "execution_count": 0,
   "metadata": {
    "application/vnd.databricks.v1+cell": {
     "inputWidgets": {},
     "nuid": "d5fbc45d-37a7-49bf-abf0-71c4ac0dae62",
     "showTitle": false,
     "title": ""
    }
   },
   "outputs": [
    {
     "data": {
      "text/html": [
       "<style scoped>\n",
       "  .ansiout {\n",
       "    display: block;\n",
       "    unicode-bidi: embed;\n",
       "    white-space: pre-wrap;\n",
       "    word-wrap: break-word;\n",
       "    word-break: break-all;\n",
       "    font-family: \"Source Code Pro\", \"Menlo\", monospace;;\n",
       "    font-size: 13px;\n",
       "    color: #555;\n",
       "    margin-left: 4px;\n",
       "    line-height: 19px;\n",
       "  }\n",
       "</style>\n",
       "<div class=\"ansiout\"></div>"
      ]
     },
     "metadata": {
      "application/vnd.databricks.v1+output": {
       "addedWidgets": {},
       "arguments": {},
       "data": "<div class=\"ansiout\"></div>",
       "datasetInfos": [],
       "metadata": {},
       "removedWidgets": [],
       "type": "html"
      }
     },
     "output_type": "display_data"
    }
   ],
   "source": [
    "#read keyword\n",
    "keywords = read_keywords_wordCount()\n",
    "#keywords\n"
   ]
  },
  {
   "cell_type": "code",
   "execution_count": 0,
   "metadata": {
    "application/vnd.databricks.v1+cell": {
     "inputWidgets": {},
     "nuid": "5cc37745-2a08-435b-a917-92a58c55b3e3",
     "showTitle": false,
     "title": ""
    }
   },
   "outputs": [
    {
     "data": {
      "text/html": [
       "<style scoped>\n",
       "  .ansiout {\n",
       "    display: block;\n",
       "    unicode-bidi: embed;\n",
       "    white-space: pre-wrap;\n",
       "    word-wrap: break-word;\n",
       "    word-break: break-all;\n",
       "    font-family: \"Source Code Pro\", \"Menlo\", monospace;;\n",
       "    font-size: 13px;\n",
       "    color: #555;\n",
       "    margin-left: 4px;\n",
       "    line-height: 19px;\n",
       "  }\n",
       "</style>\n",
       "<div class=\"ansiout\"></div>"
      ]
     },
     "metadata": {
      "application/vnd.databricks.v1+output": {
       "addedWidgets": {},
       "arguments": {},
       "data": "<div class=\"ansiout\"></div>",
       "datasetInfos": [],
       "metadata": {},
       "removedWidgets": [],
       "type": "html"
      }
     },
     "output_type": "display_data"
    }
   ],
   "source": [
    "# do word count and transform to pandas\n",
    "\n",
    "wc_increase = do_wordCount(df3.filter(col(\"coefficient\") >= 0).select(\"descriptionStripped\"), keywords)\n",
    "wc_increase[\"development\"] = \"increase\"\n",
    "\n",
    "wc_decrease = do_wordCount(df3.filter(col(\"coefficient\") < 0).select(\"descriptionStripped\"), keywords)\n",
    "wc_decrease[\"development\"] = \"decrease\"\n",
    "\n",
    "wc_noMatch = do_wordCount(df3.filter(col(\"coefficient\").isNull()).select(\"descriptionStripped\"), keywords)\n",
    "wc_noMatch[\"development\"] = \"noMatch\""
   ]
  },
  {
   "cell_type": "code",
   "execution_count": 0,
   "metadata": {
    "application/vnd.databricks.v1+cell": {
     "inputWidgets": {},
     "nuid": "2c5b28b1-5050-4f12-98ae-28805e505f6b",
     "showTitle": false,
     "title": ""
    }
   },
   "outputs": [
    {
     "data": {
      "text/html": [
       "<style scoped>\n",
       "  .ansiout {\n",
       "    display: block;\n",
       "    unicode-bidi: embed;\n",
       "    white-space: pre-wrap;\n",
       "    word-wrap: break-word;\n",
       "    word-break: break-all;\n",
       "    font-family: \"Source Code Pro\", \"Menlo\", monospace;;\n",
       "    font-size: 13px;\n",
       "    color: #555;\n",
       "    margin-left: 4px;\n",
       "    line-height: 19px;\n",
       "  }\n",
       "</style>\n",
       "<div class=\"ansiout\"></div>"
      ]
     },
     "metadata": {
      "application/vnd.databricks.v1+output": {
       "addedWidgets": {},
       "arguments": {},
       "data": "<div class=\"ansiout\"></div>",
       "datasetInfos": [],
       "metadata": {},
       "removedWidgets": [],
       "type": "html"
      }
     },
     "output_type": "display_data"
    }
   ],
   "source": [
    "# write word count to postgres\n",
    "insert_word_count_to_postgres([wc_increase, wc_decrease, wc_noMatch], params, 'ds21_b1_jobs_wordcount')"
   ]
  },
  {
   "cell_type": "code",
   "execution_count": 0,
   "metadata": {
    "application/vnd.databricks.v1+cell": {
     "inputWidgets": {},
     "nuid": "32738f93-314e-40f1-8a29-8b499316c120",
     "showTitle": false,
     "title": ""
    }
   },
   "outputs": [],
   "source": [
    "# perform word count\n",
    "\n",
    "#rddWordCount = do_wordCount(df3.select(col(\"descriptionStripped\")).rdd)\n",
    "#topWordsAndCounts = rddWordCount.takeOrdered(25000, key = lambda a: -a[1])\n",
    "#print(rddWordCount.count())\n",
    "#print (''.join(map(lambda x: \"'{0}' -> {1} times\\n\".format(x[0], x[1] ) if x[0] in keywords else \"\", topWordsAndCounts)))\n",
    "#print (''.join(map(lambda x: \"'{0}'\\n\".format(x[0]) if x[0] not in ['and', 'the'] else \"\", topWordsAndCounts)))"
   ]
  }
 ],
 "metadata": {
  "application/vnd.databricks.v1+notebook": {
   "dashboards": [],
   "language": "python",
   "notebookMetadata": {
    "pythonIndentUnit": 4
   },
   "notebookName": "analyzeJobs",
   "notebookOrigID": 1597071291677413,
   "widgets": {}
  },
  "kernelspec": {
   "display_name": "Python 3",
   "language": "python",
   "name": "python3"
  },
  "language_info": {
   "codemirror_mode": {
    "name": "ipython",
    "version": 3
   },
   "file_extension": ".py",
   "mimetype": "text/x-python",
   "name": "python",
   "nbconvert_exporter": "python",
   "pygments_lexer": "ipython3",
   "version": "3.8.10"
  }
 },
 "nbformat": 4,
 "nbformat_minor": 1
}